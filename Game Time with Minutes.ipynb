{
 "cells": [
  {
   "cell_type": "markdown",
   "id": "03f15ba6",
   "metadata": {},
   "source": [
    "Read the start time and end time of a game, in hours and minutes (initial hour, initial minute, final hour, final minute). Then print the duration of the game, knowing that the game can begin in a day and finish in another day,\n",
    "\n",
    "Obs.: With a maximum game time of 24 hours and the minimum game time of 1 minute.\n",
    "\n",
    "Input\n",
    "Four integer numbers representing the start and end time of the game.\n",
    "\n",
    "Output\n",
    "Print the duration of the game in hours and minutes, in this format: “O JOGO DUROU XXX HORA(S) E YYY MINUTO(S)” . Which means: the game lasted XXX hour(s) and YYY minutes."
   ]
  },
  {
   "cell_type": "code",
   "execution_count": 1,
   "id": "ebc9155e",
   "metadata": {},
   "outputs": [
    {
     "name": "stdout",
     "output_type": "stream",
     "text": [
      "7 8 9 10\n",
      "O JOGO DUROU 2 HORA(S) E 2 MINUTO(S)\n"
     ]
    }
   ],
   "source": [
    "a,b,c,d=map(int, input().split())\n",
    "start=a*60+b\n",
    "end=c*60+d\n",
    "dif=end-start\n",
    "if dif<=0:\n",
    "    dif+=24*60\n",
    "hour=dif//60\n",
    "minute=dif%60\n",
    "print(f\"O JOGO DUROU {hour} HORA(S) E {minute} MINUTO(S)\")"
   ]
  },
  {
   "cell_type": "code",
   "execution_count": null,
   "id": "8ef2c63e",
   "metadata": {},
   "outputs": [],
   "source": []
  }
 ],
 "metadata": {
  "kernelspec": {
   "display_name": "Python 3 (ipykernel)",
   "language": "python",
   "name": "python3"
  },
  "language_info": {
   "codemirror_mode": {
    "name": "ipython",
    "version": 3
   },
   "file_extension": ".py",
   "mimetype": "text/x-python",
   "name": "python",
   "nbconvert_exporter": "python",
   "pygments_lexer": "ipython3",
   "version": "3.9.12"
  }
 },
 "nbformat": 4,
 "nbformat_minor": 5
}
