{
 "cells": [
  {
   "cell_type": "code",
   "execution_count": 2,
   "id": "633f1e0e",
   "metadata": {},
   "outputs": [
    {
     "name": "stdout",
     "output_type": "stream",
     "text": [
      "9 4 8.5 9\n",
      "Media: 7.3\n",
      "Aluno aprovado.\n"
     ]
    }
   ],
   "source": [
    "N1,N2,N3,N4 = list(map(float,input().split()))\n",
    "\n",
    "avg = (N1*2 + N2*3 + N3*4 + N4*1)/(2+3+4+1)\n",
    "\n",
    "print(f'Media: {avg:.1f}')\n",
    "\n",
    "if (avg>=7) :\n",
    "    print('Aluno aprovado.')\n",
    "elif avg<5:\n",
    "    print('Aluno aprovado.')\n",
    "elif avg >= 5 and avg <6.9:\n",
    "    print('Aluno em exame.')\n",
    "    N5=float(input())\n",
    "    print(f'Nota do exame: {N5:.1f}')\n",
    "    avg2 = (N5+avg)/2\n",
    "    if avg2 >= 5:\n",
    "        print('Aluno aprovado.')\n",
    "    elif avg2 <=4.9:\n",
    "        print('Aluno reaprovado.')\n",
    "    print(f\"Media final: {avg2:.1f}\")\n",
    "        "
   ]
  },
  {
   "cell_type": "code",
   "execution_count": null,
   "id": "e0c1ed17",
   "metadata": {},
   "outputs": [],
   "source": []
  },
  {
   "cell_type": "code",
   "execution_count": 6,
   "id": "211933d8",
   "metadata": {},
   "outputs": [
    {
     "ename": "SyntaxError",
     "evalue": "invalid syntax (2520700270.py, line 10)",
     "output_type": "error",
     "traceback": [
      "\u001b[1;36m  Input \u001b[1;32mIn [6]\u001b[1;36m\u001b[0m\n\u001b[1;33m    print(\"Media: %.1f\", %avg)\u001b[0m\n\u001b[1;37m                         ^\u001b[0m\n\u001b[1;31mSyntaxError\u001b[0m\u001b[1;31m:\u001b[0m invalid syntax\n"
     ]
    }
   ],
   "source": [
    "n1,n2,n3,n4 = input().split(\" \")\n",
    "n1 = float(n1)\n",
    "n2 = float(n2)\n",
    "n3 = float(n3)\n",
    "n4 = float(n4)\n",
    "\n",
    "avg=(n1*2 + n2*3 + n3*4 + n4*1) / (2+3+4+1)\n",
    "\n",
    "if (avg >= 7.0) :\n",
    "    print(\"Media: %.1f\" %avg)\n",
    "    #print(\"Aluno aprovado.\")\n",
    "elif (avg < 5):\n",
    "    print(\"Media: %.1f\" %avg)\n",
    "    #print(\"Aluno aprovado.\")\n",
    "else:\n",
    "    print(\"Media: %.1f\" %avg)\n",
    "    #print(\"Aluno aprovado.\")\n",
    "    pf=float(input())\n",
    "    print(\"Nota do exame: %.1f\" %(pf))\n",
    "    avg2=(pf+calc)/2\n",
    "    if (avg2>=5.0):\n",
    "    #print(\"Aluno aprovado.\")\n",
    "    print(\"Media: %.1f\" %(avg2))\n",
    "    \n",
    "    else:\n",
    "        #print(\"Aluno aprovado.\")\n",
    "        print(\"Media: %.1f\" %(avg2))"
   ]
  },
  {
   "cell_type": "code",
   "execution_count": null,
   "id": "366e4f33",
   "metadata": {},
   "outputs": [],
   "source": []
  },
  {
   "cell_type": "code",
   "execution_count": null,
   "id": "6a0ed1f5",
   "metadata": {},
   "outputs": [],
   "source": []
  },
  {
   "cell_type": "code",
   "execution_count": null,
   "id": "0ce5f82c",
   "metadata": {},
   "outputs": [],
   "source": []
  },
  {
   "cell_type": "code",
   "execution_count": null,
   "id": "a9ea4af4",
   "metadata": {},
   "outputs": [],
   "source": []
  }
 ],
 "metadata": {
  "kernelspec": {
   "display_name": "Python 3 (ipykernel)",
   "language": "python",
   "name": "python3"
  },
  "language_info": {
   "codemirror_mode": {
    "name": "ipython",
    "version": 3
   },
   "file_extension": ".py",
   "mimetype": "text/x-python",
   "name": "python",
   "nbconvert_exporter": "python",
   "pygments_lexer": "ipython3",
   "version": "3.9.12"
  }
 },
 "nbformat": 4,
 "nbformat_minor": 5
}
