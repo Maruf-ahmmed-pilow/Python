{
 "cells": [
  {
   "cell_type": "markdown",
   "id": "7aa5cd13",
   "metadata": {},
   "source": [
    "Read an undetermined number of pairs values M and N (stop when any of these values is less or equal to zero). For each pair, print the sequence from the smallest to the biggest (including both) and the sum of consecutive integers between them (including both).\n",
    "\n",
    "Input:\n",
    "The input file contains pairs of integer values M and N. The last line of the file contains a number zero or negative, or both.\n",
    "\n",
    "Output:\n",
    "For each pair of numbers, print the sequence from the smallest to the biggest and the sum of these values, as shown below."
   ]
  },
  {
   "cell_type": "code",
   "execution_count": null,
   "id": "d604e240",
   "metadata": {},
   "outputs": [],
   "source": [
    "# m, n = list(map(int, input().split()))\n",
    "# sum = 0\n",
    "# for i in range(m,n+1):#here \n",
    "#     sum+=i\n",
    "# print(sum)"
   ]
  },
  {
   "cell_type": "code",
   "execution_count": null,
   "id": "3b4ec862",
   "metadata": {},
   "outputs": [],
   "source": [
    "# m,n = list(map(int, input().split()))\n",
    "# x=min(a,b)\n",
    "# y=max(a,b)\n",
    "# sum = 0\n",
    "# for i in range(m,n+1):\n",
    "#     sum+=i\n",
    "# print(sum)"
   ]
  },
  {
   "cell_type": "code",
   "execution_count": 3,
   "id": "f3dbf865",
   "metadata": {},
   "outputs": [
    {
     "name": "stdout",
     "output_type": "stream",
     "text": [
      "5 2\n",
      "Sum=0\n",
      "5 0\n"
     ]
    }
   ],
   "source": [
    "while(True):\n",
    "    try:\n",
    "        m, n = list(map(int, input().split()))\n",
    "        x=min(m,n)\n",
    "        y=max(m,n)\n",
    "        if m<=0 or n<=0:\n",
    "            break\n",
    "        else:\n",
    "            sum = 0\n",
    "            result = ''\n",
    "            for i in range(m,n+1):\n",
    "                result += str(i)+' '\n",
    "                sum=sum+i\n",
    "            result+= 'Sum=%d'\n",
    "            print(result %sum)\n",
    "    except EOFError:\n",
    "        break\n",
    "\n",
    "        "
   ]
  },
  {
   "cell_type": "code",
   "execution_count": null,
   "id": "e80675a5",
   "metadata": {},
   "outputs": [],
   "source": [
    "while(True):\n",
    "    try:\n",
    "        a,b=list(map(int,input().split()))\n",
    "        x = min(a,b)\n",
    "        y = max(a,b)\n",
    "        if(a<=0 or b<=0):\n",
    "            break\n",
    "        else:\n",
    "            sum=0\n",
    "            result = ''\n",
    "            for i in range(x,y+1):\n",
    "                result += str(i)+' '\n",
    "                sum = sum + i\n",
    "            result+= 'Sum=%d'\n",
    "            print(result %sum)\n",
    "    except EOFError:\n",
    "        break\n"
   ]
  },
  {
   "cell_type": "code",
   "execution_count": null,
   "id": "65328fc1",
   "metadata": {},
   "outputs": [],
   "source": []
  }
 ],
 "metadata": {
  "kernelspec": {
   "display_name": "Python 3 (ipykernel)",
   "language": "python",
   "name": "python3"
  },
  "language_info": {
   "codemirror_mode": {
    "name": "ipython",
    "version": 3
   },
   "file_extension": ".py",
   "mimetype": "text/x-python",
   "name": "python",
   "nbconvert_exporter": "python",
   "pygments_lexer": "ipython3",
   "version": "3.9.12"
  }
 },
 "nbformat": 4,
 "nbformat_minor": 5
}
