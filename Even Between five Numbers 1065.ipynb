{
 "cells": [
  {
   "cell_type": "markdown",
   "id": "1b0325e5",
   "metadata": {},
   "source": [
    "Make a program that reads five integer values. Count how many of these values ​​are even and  print this information like the following example.\n",
    "\n",
    "Input:\n",
    "The input will be 5 integer values.\n",
    "\n",
    "Output:\n",
    "Print a message like the following example with all letters in lowercase, indicating how many even numbers were typed."
   ]
  },
  {
   "cell_type": "code",
   "execution_count": 6,
   "id": "87f73054",
   "metadata": {},
   "outputs": [
    {
     "name": "stdout",
     "output_type": "stream",
     "text": [
      "7\n",
      "-5\n",
      "6\n",
      "-4\n",
      "12\n",
      "3 valores pares\n"
     ]
    }
   ],
   "source": [
    "e=0\n",
    "#avg=0\n",
    "for i in range(5):\n",
    "    a=int(input())\n",
    "    if a%2==0:\n",
    "        e+=1\n",
    "        #avg+=a\n",
    "        \n",
    "print(f\"{e} valores pares\")"
   ]
  },
  {
   "cell_type": "code",
   "execution_count": null,
   "id": "eee27619",
   "metadata": {},
   "outputs": [],
   "source": []
  }
 ],
 "metadata": {
  "kernelspec": {
   "display_name": "Python 3 (ipykernel)",
   "language": "python",
   "name": "python3"
  },
  "language_info": {
   "codemirror_mode": {
    "name": "ipython",
    "version": 3
   },
   "file_extension": ".py",
   "mimetype": "text/x-python",
   "name": "python",
   "nbconvert_exporter": "python",
   "pygments_lexer": "ipython3",
   "version": "3.9.12"
  }
 },
 "nbformat": 4,
 "nbformat_minor": 5
}
