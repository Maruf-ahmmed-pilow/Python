{
 "cells": [
  {
   "cell_type": "code",
   "execution_count": 37,
   "id": "6990282e",
   "metadata": {
    "scrolled": true
   },
   "outputs": [
    {
     "name": "stdout",
     "output_type": "stream",
     "text": [
      "150.00\n",
      "A= 70685.7750\n"
     ]
    }
   ],
   "source": [
    "R=float(input())\n",
    "n=3.14159\n",
    "A = format(n*R*R, \".4f\")\n",
    "print(\"A=\",A)"
   ]
  },
  {
   "cell_type": "code",
   "execution_count": 44,
   "id": "224b572d",
   "metadata": {},
   "outputs": [
    {
     "name": "stdout",
     "output_type": "stream",
     "text": [
      "150\n",
      "A= 70685.775\n"
     ]
    }
   ],
   "source": [
    "R = float(input())\n",
    "n=3.14159\n",
    "A=(n* (R*R))\n",
    "print(\"A=\", A)"
   ]
  },
  {
   "cell_type": "code",
   "execution_count": null,
   "id": "4bb266e2",
   "metadata": {},
   "outputs": [],
   "source": []
  }
 ],
 "metadata": {
  "kernelspec": {
   "display_name": "Python 3 (ipykernel)",
   "language": "python",
   "name": "python3"
  },
  "language_info": {
   "codemirror_mode": {
    "name": "ipython",
    "version": 3
   },
   "file_extension": ".py",
   "mimetype": "text/x-python",
   "name": "python",
   "nbconvert_exporter": "python",
   "pygments_lexer": "ipython3",
   "version": "3.9.12"
  }
 },
 "nbformat": 4,
 "nbformat_minor": 5
}
