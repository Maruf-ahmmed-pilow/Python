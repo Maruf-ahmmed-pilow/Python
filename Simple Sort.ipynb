{
 "cells": [
  {
   "cell_type": "markdown",
   "id": "9174700f",
   "metadata": {},
   "source": [
    "Read three integers and sort them in ascending order. After, print these values in ascending order, a blank line and then the values in the sequence as they were readed.\n",
    "\n",
    "Input\n",
    "The input contains three integer numbers.\n",
    "\n",
    "Output\n",
    "Present the output as requested above."
   ]
  },
  {
   "cell_type": "code",
   "execution_count": 4,
   "id": "cb6d7b84",
   "metadata": {},
   "outputs": [
    {
     "name": "stdout",
     "output_type": "stream",
     "text": [
      "7 21 -14\n",
      "-14\n",
      "7\n",
      "21\n",
      "\n",
      "7\n",
      "21\n",
      "-14\n",
      "\n"
     ]
    }
   ],
   "source": [
    "x,y,z=map(int,input().split())\n",
    "lista=[x,y,z]\n",
    "lista.sort()\n",
    "print(f'{lista[0]}\\n{lista[1]}\\n{lista[2]}\\n')\n",
    "print(f'{x}\\n{y}\\n{z}')"
   ]
  },
  {
   "cell_type": "code",
   "execution_count": null,
   "id": "87b1349a",
   "metadata": {},
   "outputs": [],
   "source": []
  }
 ],
 "metadata": {
  "kernelspec": {
   "display_name": "Python 3 (ipykernel)",
   "language": "python",
   "name": "python3"
  },
  "language_info": {
   "codemirror_mode": {
    "name": "ipython",
    "version": 3
   },
   "file_extension": ".py",
   "mimetype": "text/x-python",
   "name": "python",
   "nbconvert_exporter": "python",
   "pygments_lexer": "ipython3",
   "version": "3.9.12"
  }
 },
 "nbformat": 4,
 "nbformat_minor": 5
}
