{
 "cells": [
  {
   "cell_type": "markdown",
   "id": "de08cb35",
   "metadata": {},
   "source": [
    "In an imaginary country called Lisarb, all the people are very happy to pay their taxes because they know that doesn’t exist corrupt politicians and the taxes are used to benefit the population, without any misappropriation. The currency of this country is Rombus, whose symbol is R$.\n",
    "\n",
    "Read a value with 2 digits after the decimal point, equivalent to the salary of a Lisarb inhabitant. Then print the due value that this person must pay of taxes, according to the table below.\n",
    "\n",
    "\n",
    "\n",
    "Remember, if the salary is R$ 3,002.00 for example, the rate of 8% is only over R$ 1,000.00, because the salary from R$ 0.00 to R$ 2,000.00 is tax free. In the follow example, the total rate is 8% over R$ 1000.00 + 18% over R$ 2.00, resulting in R$ 80.36 at all. The answer must be printed with 2 digits after the decimal point.\n",
    "\n",
    "Input:\n",
    "The input contains only a float-point number, with 2 digits after the decimal point.\n",
    "\n",
    "Output:\n",
    "Print the message \"R$\" followed by a blank space and the total tax to be payed, with two digits after the decimal point. If the value is up to 2000, print the message \"Isento\"."
   ]
  },
  {
   "cell_type": "code",
   "execution_count": null,
   "id": "56db5be4",
   "metadata": {},
   "outputs": [],
   "source": [
    "a=float(input())-2000\n",
    "if a<=0:\n",
    "    print(\"Isento\")\n",
    "elif a<=1000:\n",
    "    tax = (a*8)/100\n",
    "    print(f\"R$ {tax:.2f}\")\n",
    "elif a<=2500:\n",
    "    tax = ((1000*8)/100) + (((a-1000)*18)/100)\n",
    "    print(f\"R$ {tax:.2f}\")\n",
    "else:\n",
    "    tax = ((1000*8)/100) + ((1500*18)/100) + (((a-2500)*28)/100)\n",
    "    print(f\"R$ {tax:.2f}\")"
   ]
  }
 ],
 "metadata": {
  "kernelspec": {
   "display_name": "Python 3 (ipykernel)",
   "language": "python",
   "name": "python3"
  },
  "language_info": {
   "codemirror_mode": {
    "name": "ipython",
    "version": 3
   },
   "file_extension": ".py",
   "mimetype": "text/x-python",
   "name": "python",
   "nbconvert_exporter": "python",
   "pygments_lexer": "ipython3",
   "version": "3.9.12"
  }
 },
 "nbformat": 4,
 "nbformat_minor": 5
}
