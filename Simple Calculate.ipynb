{
 "cells": [
  {
   "cell_type": "code",
   "execution_count": null,
   "id": "93226e0b",
   "metadata": {},
   "outputs": [],
   "source": [
    "a=input().split(' ')[1:]\n",
    "b=input().split(' ')[1:]\n",
    "total=int(a[0]) * float(a[1]) + int(b[0]) * float(b[1])\n",
    "print(f\"VALOR A PAGAR: R$ {total:.2f}\")"
   ]
  },
  {
   "cell_type": "code",
   "execution_count": 4,
   "id": "27fc5549",
   "metadata": {},
   "outputs": [
    {
     "name": "stdout",
     "output_type": "stream",
     "text": [
      "VALOR A PAGAR: R$ 15.50\n"
     ]
    }
   ],
   "source": [
    "print(f\"VALOR A PAGAR: R$ {re:.2f}\")"
   ]
  },
  {
   "cell_type": "code",
   "execution_count": null,
   "id": "7ef91a58",
   "metadata": {},
   "outputs": [],
   "source": []
  },
  {
   "cell_type": "code",
   "execution_count": null,
   "id": "cc5afa8d",
   "metadata": {},
   "outputs": [],
   "source": []
  }
 ],
 "metadata": {
  "kernelspec": {
   "display_name": "Python 3 (ipykernel)",
   "language": "python",
   "name": "python3"
  },
  "language_info": {
   "codemirror_mode": {
    "name": "ipython",
    "version": 3
   },
   "file_extension": ".py",
   "mimetype": "text/x-python",
   "name": "python",
   "nbconvert_exporter": "python",
   "pygments_lexer": "ipython3",
   "version": "3.9.12"
  }
 },
 "nbformat": 4,
 "nbformat_minor": 5
}
