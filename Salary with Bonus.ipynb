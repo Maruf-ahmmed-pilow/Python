{
 "cells": [
  {
   "cell_type": "code",
   "execution_count": null,
   "id": "57e89ccd",
   "metadata": {},
   "outputs": [
    {
     "name": "stdout",
     "output_type": "stream",
     "text": [
      "joaa\n"
     ]
    }
   ],
   "source": [
    "a=str(input())\n",
    "b=float(input())\n",
    "c=float(input())\n",
    "total=(b+(c*15)/100)\n",
    "print(f\"TOTAL = R$ {total:.2f}\")"
   ]
  },
  {
   "cell_type": "code",
   "execution_count": null,
   "id": "dae2c730",
   "metadata": {},
   "outputs": [],
   "source": []
  }
 ],
 "metadata": {
  "kernelspec": {
   "display_name": "Python 3 (ipykernel)",
   "language": "python",
   "name": "python3"
  },
  "language_info": {
   "codemirror_mode": {
    "name": "ipython",
    "version": 3
   },
   "file_extension": ".py",
   "mimetype": "text/x-python",
   "name": "python",
   "nbconvert_exporter": "python",
   "pygments_lexer": "ipython3",
   "version": "3.9.12"
  }
 },
 "nbformat": 4,
 "nbformat_minor": 5
}
