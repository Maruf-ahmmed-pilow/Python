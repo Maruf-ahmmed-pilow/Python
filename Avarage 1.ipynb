{
 "cells": [
  {
   "cell_type": "markdown",
   "id": "24ab3f25",
   "metadata": {},
   "source": [
    "Read two floating points' values of double precision A and B, corresponding to two student's grades. After this, calculate the student's average, considering that grade A has weight 3.5 and B has weight 7.5. Each grade can be from zero to ten, always with one digit after the decimal point. Don’t forget to print the end of line after the result, otherwise you will receive “Presentation Error”. Don’t forget the space before and after the equal sign."
   ]
  },
  {
   "cell_type": "code",
   "execution_count": 2,
   "id": "66888650",
   "metadata": {},
   "outputs": [
    {
     "name": "stdout",
     "output_type": "stream",
     "text": [
      "5.0\n",
      "7.1\n",
      "MEDIA =  6.05\n"
     ]
    }
   ],
   "source": [
    "a=float(input())\n",
    "b=float(input())\n",
    "c=(a+b)/2\n",
    "print(\"MEDIA = \", c)"
   ]
  },
  {
   "cell_type": "code",
   "execution_count": 3,
   "id": "e51b48a7",
   "metadata": {},
   "outputs": [
    {
     "name": "stdout",
     "output_type": "stream",
     "text": [
      "5.0\n",
      "7.1\n",
      "MEDIA = 6.05000\n"
     ]
    }
   ],
   "source": [
    "a=float(input())\n",
    "b=float(input())\n",
    "c=(a*3.5)+\n",
    "print(\"MEDIA = %.5f\"%c)"
   ]
  },
  {
   "cell_type": "code",
   "execution_count": null,
   "id": "d4993174",
   "metadata": {},
   "outputs": [],
   "source": []
  }
 ],
 "metadata": {
  "kernelspec": {
   "display_name": "Python 3 (ipykernel)",
   "language": "python",
   "name": "python3"
  },
  "language_info": {
   "codemirror_mode": {
    "name": "ipython",
    "version": 3
   },
   "file_extension": ".py",
   "mimetype": "text/x-python",
   "name": "python",
   "nbconvert_exporter": "python",
   "pygments_lexer": "ipython3",
   "version": "3.9.12"
  }
 },
 "nbformat": 4,
 "nbformat_minor": 5
}
