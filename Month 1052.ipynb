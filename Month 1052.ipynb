{
 "cells": [
  {
   "cell_type": "markdown",
   "id": "e2376351",
   "metadata": {},
   "source": [
    "Read an integer number between 1 and 12, including. Corresponding to this number, you must print the month of the year, in english, with the first letter in uppercase.\n",
    "\n",
    "Input:\n",
    "The input contains only an integer number.\n",
    "\n",
    "Output:\n",
    "Print the name of the month according to the input number, with the first letter in uppercase."
   ]
  },
  {
   "cell_type": "code",
   "execution_count": 2,
   "id": "83af4aa7",
   "metadata": {},
   "outputs": [
    {
     "name": "stdout",
     "output_type": "stream",
     "text": [
      "1\n",
      "January\n"
     ]
    }
   ],
   "source": [
    "a = int(input())\n",
    "dict={\n",
    "    1:\"January\",\n",
    "    2:\"February\",\n",
    "    3:\"March\",\n",
    "    4:\"April\",\n",
    "    5:\"May\",\n",
    "    6:\"June\",\n",
    "    7:\"July\",\n",
    "    8:\"August\",\n",
    "    9:\"September\",\n",
    "    10:\"October\",\n",
    "    11:\"November\",\n",
    "    12:\"December\"\n",
    "}\n",
    "if a in dict:\n",
    "    print(dict[a])"
   ]
  },
  {
   "cell_type": "code",
   "execution_count": null,
   "id": "25a5c0af",
   "metadata": {},
   "outputs": [],
   "source": []
  }
 ],
 "metadata": {
  "kernelspec": {
   "display_name": "Python 3 (ipykernel)",
   "language": "python",
   "name": "python3"
  },
  "language_info": {
   "codemirror_mode": {
    "name": "ipython",
    "version": 3
   },
   "file_extension": ".py",
   "mimetype": "text/x-python",
   "name": "python",
   "nbconvert_exporter": "python",
   "pygments_lexer": "ipython3",
   "version": "3.9.12"
  }
 },
 "nbformat": 4,
 "nbformat_minor": 5
}
