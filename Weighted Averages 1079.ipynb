{
 "cells": [
  {
   "cell_type": "markdown",
   "id": "4fb6d8e5",
   "metadata": {},
   "source": [
    "Read an integer N, which represents the number of following test cases. Each test case consists of three floating-point numbers, each one with one digit after the decimal point. Print the weighted average for each of these sets of three numbers, considering that the first number has weight 2, the second number has weight 3 and the third number has weight 5.\n",
    "\n",
    "Input:\n",
    "The input file contains an integer number N in the first line. Each N following line is a test case with three float-point numbers, each one with one digit after the decimal point.\n",
    "\n",
    "Output:\n",
    "For each test case, print the weighted average according with below example."
   ]
  },
  {
   "cell_type": "code",
   "execution_count": 1,
   "id": "abc3fac4",
   "metadata": {},
   "outputs": [
    {
     "name": "stdout",
     "output_type": "stream",
     "text": [
      "3\n",
      "6.5 4.3 6.2\n",
      "5.7\n",
      "5.1 4.2 8.1\n",
      "6.3\n",
      "8.0 9.0 10.0\n",
      "9.3\n"
     ]
    }
   ],
   "source": [
    "n=int(input())\n",
    "for i in range(n):\n",
    "    x,y,z=[float(m) for m in input().split()]\n",
    "    total=(x*2+y*3+z*5)/10\n",
    "    print(f'{total:0.1f}')"
   ]
  },
  {
   "cell_type": "code",
   "execution_count": 3,
   "id": "d9c2e8a9",
   "metadata": {},
   "outputs": [
    {
     "name": "stdout",
     "output_type": "stream",
     "text": [
      "3\n",
      "3\n",
      "3\n",
      "3\n"
     ]
    }
   ],
   "source": [
    "n=int(input())\n",
    "for i in range(n):\n",
    "    print(n)"
   ]
  },
  {
   "cell_type": "code",
   "execution_count": null,
   "id": "aaffc1e5",
   "metadata": {},
   "outputs": [],
   "source": []
  }
 ],
 "metadata": {
  "kernelspec": {
   "display_name": "Python 3 (ipykernel)",
   "language": "python",
   "name": "python3"
  },
  "language_info": {
   "codemirror_mode": {
    "name": "ipython",
    "version": 3
   },
   "file_extension": ".py",
   "mimetype": "text/x-python",
   "name": "python",
   "nbconvert_exporter": "python",
   "pygments_lexer": "ipython3",
   "version": "3.9.12"
  }
 },
 "nbformat": 4,
 "nbformat_minor": 5
}
