{
 "cells": [
  {
   "cell_type": "markdown",
   "id": "a5c836dc",
   "metadata": {},
   "source": [
    "Read an integer number that is the code number for phone dialing. Then, print the destination according to the following table:\n",
    "\n",
    "\n",
    "\n",
    "\n",
    "If the input number isn’t found in the above table, the output must be:\n",
    "DDD nao cadastrado\n",
    "That means “DDD not found” in Portuguese language.\n",
    "\n",
    "Input:\n",
    "The input consists in a unique integer number.\n",
    "\n",
    "Output:\n",
    "Print the city name corresponding to the input DDD. Print DDD nao cadastrado if doesn't exist corresponding DDD to the typed number.\n",
    "\n",
    "Input Sample\tOutput Sample\n",
    "11\n",
    "\n",
    "Sao Paulo"
   ]
  },
  {
   "cell_type": "code",
   "execution_count": 4,
   "id": "1cc98e66",
   "metadata": {},
   "outputs": [
    {
     "name": "stdout",
     "output_type": "stream",
     "text": [
      "61\n",
      "Brasilia\n"
     ]
    }
   ],
   "source": [
    "Dictionary = {61:\"Brasilia\",\n",
    "              71:\"Salvador\",\n",
    "              11:\"Sao Paulo\",\n",
    "              21:\"Rio de Janeiro\",\n",
    "              32:\"Juiz de Fora\",\n",
    "              19:\"Campinas\",\n",
    "              27:\"Vitoria\",\n",
    "              31:\"Belo Horizonte\"}\n",
    "a = int(input())\n",
    "if a in Dictionary:\n",
    "              print(Dictionary[a])\n",
    "else:\n",
    "    print(\"DDD nao cadastrado\")"
   ]
  },
  {
   "cell_type": "code",
   "execution_count": null,
   "id": "e90e67d5",
   "metadata": {},
   "outputs": [],
   "source": []
  }
 ],
 "metadata": {
  "kernelspec": {
   "display_name": "Python 3 (ipykernel)",
   "language": "python",
   "name": "python3"
  },
  "language_info": {
   "codemirror_mode": {
    "name": "ipython",
    "version": 3
   },
   "file_extension": ".py",
   "mimetype": "text/x-python",
   "name": "python",
   "nbconvert_exporter": "python",
   "pygments_lexer": "ipython3",
   "version": "3.9.12"
  }
 },
 "nbformat": 4,
 "nbformat_minor": 5
}
