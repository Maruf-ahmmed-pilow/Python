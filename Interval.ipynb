{
 "cells": [
  {
   "cell_type": "code",
   "execution_count": 7,
   "id": "3eb440b2",
   "metadata": {},
   "outputs": [
    {
     "name": "stdout",
     "output_type": "stream",
     "text": [
      "-25.02\n",
      "Fora de intervalo\n"
     ]
    }
   ],
   "source": [
    "a=float(input())\n",
    "if a<0 or a>100:\n",
    "    print(\"Fora de intervalo\")\n",
    "elif a<=25:\n",
    "    print('Intervalo [0,25]')\n",
    "elif a<=50:\n",
    "    print('Intervalo (25,50]')\n",
    "elif a<=75:\n",
    "    print('Intervalo (50,75]')\n",
    "else:\n",
    "    print('Intervalo (75,100]')"
   ]
  },
  {
   "cell_type": "code",
   "execution_count": null,
   "id": "4afd691f",
   "metadata": {},
   "outputs": [],
   "source": []
  }
 ],
 "metadata": {
  "kernelspec": {
   "display_name": "Python 3 (ipykernel)",
   "language": "python",
   "name": "python3"
  },
  "language_info": {
   "codemirror_mode": {
    "name": "ipython",
    "version": 3
   },
   "file_extension": ".py",
   "mimetype": "text/x-python",
   "name": "python",
   "nbconvert_exporter": "python",
   "pygments_lexer": "ipython3",
   "version": "3.9.12"
  }
 },
 "nbformat": 4,
 "nbformat_minor": 5
}
