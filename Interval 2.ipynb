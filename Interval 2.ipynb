{
 "cells": [
  {
   "cell_type": "markdown",
   "id": "d745f9ea",
   "metadata": {},
   "source": [
    "Read an integer N. This N will be the number of integer numbers X that will be read.\n",
    "\n",
    "Print how many these numbers X are in the interval [10,20] and how many values are out of this interval.\n",
    " \n",
    "\n",
    "Input:\n",
    "The first line of input is an integer N (N < 10000), that indicates the total number of test cases.\n",
    "Each case is an integer number X (-107 < X < 107).\n",
    "\n",
    " \n",
    "\n",
    "Output:\n",
    "For each test case, print how many numbers are in and how many values are out of the interval."
   ]
  },
  {
   "cell_type": "code",
   "execution_count": 3,
   "id": "f4d5ee00",
   "metadata": {},
   "outputs": [
    {
     "name": "stdout",
     "output_type": "stream",
     "text": [
      "4\n",
      "14\n",
      "123\n",
      "10\n",
      "-25\n",
      "2 in\n",
      "2 out\n"
     ]
    }
   ],
   "source": [
    "n1 = 0\n",
    "o1= 0\n",
    "for i in range(int(input())):\n",
    "    n = int(input())\n",
    "    if n>=10 and n <=20:\n",
    "        n1+=1\n",
    "    else:\n",
    "        o1+=1\n",
    "print(f'''{n1} in\n",
    "{o1} out''')"
   ]
  },
  {
   "cell_type": "code",
   "execution_count": 4,
   "id": "55d4032b",
   "metadata": {},
   "outputs": [
    {
     "name": "stdout",
     "output_type": "stream",
     "text": [
      "4\n",
      "0\n",
      "1\n",
      "2\n",
      "3\n"
     ]
    }
   ],
   "source": [
    "for i in range(int(input())):\n",
    "    print(i)"
   ]
  },
  {
   "cell_type": "code",
   "execution_count": 5,
   "id": "d375faa7",
   "metadata": {},
   "outputs": [
    {
     "name": "stdout",
     "output_type": "stream",
     "text": [
      "4\n",
      "1\n",
      "1\n",
      "2\n",
      "2\n",
      "3\n",
      "3\n",
      "5\n",
      "5\n"
     ]
    }
   ],
   "source": [
    "for i in range(int(input())):\n",
    "    n=int(input())\n",
    "    print(n)"
   ]
  },
  {
   "cell_type": "code",
   "execution_count": 6,
   "id": "5c77eb1b",
   "metadata": {},
   "outputs": [
    {
     "name": "stdout",
     "output_type": "stream",
     "text": [
      "4\n",
      "20\n",
      "1\n",
      "20\n",
      "2\n",
      "30\n",
      "3\n",
      "40\n",
      "4\n"
     ]
    }
   ],
   "source": [
    "n1=0\n",
    "n2=0\n",
    "for i in range(int(input())):\n",
    "    n=int(input())\n",
    "    n1+=1\n",
    "    print(n1)"
   ]
  },
  {
   "cell_type": "code",
   "execution_count": 13,
   "id": "3551dab8",
   "metadata": {},
   "outputs": [
    {
     "name": "stdout",
     "output_type": "stream",
     "text": [
      "4\n",
      "10\n",
      "20\n",
      "30\n",
      "40\n",
      "2 in \n",
      "2 out\n"
     ]
    }
   ],
   "source": [
    "n1=0\n",
    "n2=0\n",
    "for i in range(int(input())):\n",
    "    n=int(input())\n",
    "    if n>=10 and n<=20:\n",
    "        n1+=1\n",
    "    else:\n",
    "        n2+=1\n",
    "print(f\"{n1} in \\n{n2} out\")"
   ]
  }
 ],
 "metadata": {
  "kernelspec": {
   "display_name": "Python 3 (ipykernel)",
   "language": "python",
   "name": "python3"
  },
  "language_info": {
   "codemirror_mode": {
    "name": "ipython",
    "version": 3
   },
   "file_extension": ".py",
   "mimetype": "text/x-python",
   "name": "python",
   "nbconvert_exporter": "python",
   "pygments_lexer": "ipython3",
   "version": "3.9.12"
  }
 },
 "nbformat": 4,
 "nbformat_minor": 5
}
