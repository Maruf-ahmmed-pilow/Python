{
 "cells": [
  {
   "cell_type": "code",
   "execution_count": 4,
   "id": "e49f45a1",
   "metadata": {},
   "outputs": [
    {
     "name": "stdout",
     "output_type": "stream",
     "text": [
      "I=1 J=7\n",
      "I=1 J=6\n",
      "I=1 J=5\n",
      "I=3 J=9\n",
      "I=3 J=8\n",
      "I=3 J=7\n",
      "I=5 J=11\n",
      "I=5 J=10\n",
      "I=5 J=9\n",
      "I=7 J=13\n",
      "I=7 J=12\n",
      "I=7 J=11\n",
      "I=9 J=15\n",
      "I=9 J=14\n",
      "I=9 J=13\n"
     ]
    }
   ],
   "source": [
    "for i in range (1,10,2):\n",
    "    for j in range(6+i,3+i,-1):\n",
    "        print(\"I={} J={}\".format(i,j))"
   ]
  },
  {
   "cell_type": "code",
   "execution_count": null,
   "id": "9077deee",
   "metadata": {},
   "outputs": [],
   "source": []
  }
 ],
 "metadata": {
  "kernelspec": {
   "display_name": "Python 3 (ipykernel)",
   "language": "python",
   "name": "python3"
  },
  "language_info": {
   "codemirror_mode": {
    "name": "ipython",
    "version": 3
   },
   "file_extension": ".py",
   "mimetype": "text/x-python",
   "name": "python",
   "nbconvert_exporter": "python",
   "pygments_lexer": "ipython3",
   "version": "3.9.12"
  }
 },
 "nbformat": 4,
 "nbformat_minor": 5
}
