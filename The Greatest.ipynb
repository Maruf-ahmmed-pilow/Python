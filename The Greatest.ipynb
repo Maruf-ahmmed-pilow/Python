{
 "cells": [
  {
   "cell_type": "code",
   "execution_count": 3,
   "id": "28db7f8a",
   "metadata": {},
   "outputs": [
    {
     "name": "stdout",
     "output_type": "stream",
     "text": [
      "7 14 106\n",
      "106 eh o maior\n"
     ]
    }
   ],
   "source": [
    "A = list(map(int,input().split()))\n",
    "print(f\"{max(A)} eh o maior\")"
   ]
  },
  {
   "cell_type": "code",
   "execution_count": 9,
   "id": "1f6c6123",
   "metadata": {},
   "outputs": [
    {
     "name": "stdout",
     "output_type": "stream",
     "text": [
      "7\n",
      "14\n",
      "106\n",
      "MAX: 106\n"
     ]
    }
   ],
   "source": [
    "A= int(input())\n",
    "B= int(input())\n",
    "C= int(input())\n",
    "print('MAX:', max(A,B,C))"
   ]
  },
  {
   "cell_type": "code",
   "execution_count": null,
   "id": "24fa4ca8",
   "metadata": {},
   "outputs": [],
   "source": []
  },
  {
   "cell_type": "code",
   "execution_count": null,
   "id": "e2f817da",
   "metadata": {},
   "outputs": [],
   "source": []
  },
  {
   "cell_type": "code",
   "execution_count": null,
   "id": "fc702d04",
   "metadata": {},
   "outputs": [],
   "source": []
  }
 ],
 "metadata": {
  "kernelspec": {
   "display_name": "Python 3 (ipykernel)",
   "language": "python",
   "name": "python3"
  },
  "language_info": {
   "codemirror_mode": {
    "name": "ipython",
    "version": 3
   },
   "file_extension": ".py",
   "mimetype": "text/x-python",
   "name": "python",
   "nbconvert_exporter": "python",
   "pygments_lexer": "ipython3",
   "version": "3.9.12"
  }
 },
 "nbformat": 4,
 "nbformat_minor": 5
}
