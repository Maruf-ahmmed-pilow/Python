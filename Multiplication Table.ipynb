{
 "cells": [
  {
   "cell_type": "markdown",
   "id": "4006845a",
   "metadata": {},
   "source": [
    "Read an integer N (2 < N < 1000). Print the multiplication table of N.\n",
    "1 x N = N      2 x N = 2N        ...       10 x N = 10N  \n",
    "\n",
    "Input\n",
    "The input is an integer N (1 < N < 1000).\n",
    "\n",
    "Output\n",
    "Print the multiplication table of N., like the following example."
   ]
  },
  {
   "cell_type": "code",
   "execution_count": 15,
   "id": "c9a7582e",
   "metadata": {},
   "outputs": [
    {
     "ename": "SyntaxError",
     "evalue": "EOF while scanning triple-quoted string literal (772772037.py, line 3)",
     "output_type": "error",
     "traceback": [
      "\u001b[1;36m  Input \u001b[1;32mIn [15]\u001b[1;36m\u001b[0m\n\u001b[1;33m    print(f'''{i} x {n} = {i*n})\u001b[0m\n\u001b[1;37m                                ^\u001b[0m\n\u001b[1;31mSyntaxError\u001b[0m\u001b[1;31m:\u001b[0m EOF while scanning triple-quoted string literal\n"
     ]
    }
   ],
   "source": [
    "n=int(input())\n",
    "for i in range(1, 11):\n",
    "    print(f'''{i} x {n} = {i*n})"
   ]
  },
  {
   "cell_type": "code",
   "execution_count": 14,
   "id": "5cb902a5",
   "metadata": {},
   "outputs": [
    {
     "name": "stdout",
     "output_type": "stream",
     "text": [
      "140\n",
      "1 x 140 = 140\n",
      "2 x 140 = 280\n",
      "3 x 140 = 420\n",
      "4 x 140 = 560\n",
      "5 x 140 = 700\n",
      "6 x 140 = 840\n",
      "7 x 140 = 980\n",
      "8 x 140 = 1120\n",
      "9 x 140 = 1260\n",
      "10 x 140 = 1400\n"
     ]
    }
   ],
   "source": [
    "num=int(input())\n",
    "for i in range(1, 11):\n",
    "   print(i, 'x', num, '=', num*i)\n"
   ]
  },
  {
   "cell_type": "code",
   "execution_count": null,
   "id": "505ff524",
   "metadata": {},
   "outputs": [],
   "source": []
  }
 ],
 "metadata": {
  "kernelspec": {
   "display_name": "Python 3 (ipykernel)",
   "language": "python",
   "name": "python3"
  },
  "language_info": {
   "codemirror_mode": {
    "name": "ipython",
    "version": 3
   },
   "file_extension": ".py",
   "mimetype": "text/x-python",
   "name": "python",
   "nbconvert_exporter": "python",
   "pygments_lexer": "ipython3",
   "version": "3.9.12"
  }
 },
 "nbformat": 4,
 "nbformat_minor": 5
}
