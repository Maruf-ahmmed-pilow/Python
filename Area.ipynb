{
 "cells": [
  {
   "cell_type": "markdown",
   "id": "671aded7",
   "metadata": {},
   "source": [
    "# Make a program that reads three floating point values: A, B and C. Then, calculate and show:\n",
    "a) the area of the rectangled triangle that has base A and height C.\n",
    "b) the area of the radius's circle C. (pi = 3.14159)\n",
    "c) the area of the trapezium which has A and B by base, and C by height.\n",
    "d) the area of ​​the square that has side B.\n",
    "e) the area of the rectangle that has sides A and B."
   ]
  },
  {
   "cell_type": "code",
   "execution_count": 4,
   "id": "e0f79835",
   "metadata": {},
   "outputs": [
    {
     "name": "stdout",
     "output_type": "stream",
     "text": [
      "3.0 4.0 5.2\n",
      "TRIANGULO: 7.800\n",
      "CIRCULO: 84.949\n",
      "TRAPEZIO: 18.200\n",
      "QUADRADO: 16.000\n",
      "RETANGULO: 12.000\n"
     ]
    }
   ],
   "source": [
    "A,B,C = list(map(float,input().split()))\n",
    "d=0.5*A*C\n",
    "e=3.14159* pow(C, 2)\n",
    "f=0.5*(A+B)*C\n",
    "g=pow(B, 2)\n",
    "h=A*B\n",
    "print(f'''TRIANGULO: {d:.3f}\n",
    "CIRCULO: {e:.3f}\n",
    "TRAPEZIO: {f:.3f}\n",
    "QUADRADO: {g:.3f}\n",
    "RETANGULO: {h:.3f}''')"
   ]
  },
  {
   "cell_type": "code",
   "execution_count": null,
   "id": "02517a71",
   "metadata": {},
   "outputs": [],
   "source": []
  },
  {
   "cell_type": "code",
   "execution_count": null,
   "id": "9b6e966f",
   "metadata": {},
   "outputs": [],
   "source": []
  },
  {
   "cell_type": "code",
   "execution_count": null,
   "id": "7f132132",
   "metadata": {},
   "outputs": [],
   "source": []
  },
  {
   "cell_type": "code",
   "execution_count": null,
   "id": "506562f9",
   "metadata": {},
   "outputs": [],
   "source": []
  },
  {
   "cell_type": "code",
   "execution_count": 4,
   "id": "fcecaacc",
   "metadata": {},
   "outputs": [
    {
     "name": "stdout",
     "output_type": "stream",
     "text": [
      "12.7\n",
      "10.4\n",
      "15.2\n",
      "TRIANGULO:  96.520 \n",
      "CIRCULO:  725.833 \n",
      "TRAPEZIO:  175.560 \n",
      "QUADRADO:  108.160 \n",
      "RETANGULO:  132.080\n"
     ]
    }
   ],
   "source": [
    "A = float(input())\n",
    "B = float(input())\n",
    "C = float(input())\n",
    "d=(1/2)*A*C\n",
    "e=3.14159* pow(C, 2)\n",
    "f=(1/2)*(A+B)*C\n",
    "g=pow(B, 2)\n",
    "h=A*B\n",
    "print(f\"TRIANGULO: {d: .3f} \\nCIRCULO: {e: .3f} \\nTRAPEZIO: {f: .3f} \\nQUADRADO: {g: .3f} \\nRETANGULO: {h: .3f}\")"
   ]
  }
 ],
 "metadata": {
  "kernelspec": {
   "display_name": "Python 3 (ipykernel)",
   "language": "python",
   "name": "python3"
  },
  "language_info": {
   "codemirror_mode": {
    "name": "ipython",
    "version": 3
   },
   "file_extension": ".py",
   "mimetype": "text/x-python",
   "name": "python",
   "nbconvert_exporter": "python",
   "pygments_lexer": "ipython3",
   "version": "3.9.12"
  }
 },
 "nbformat": 4,
 "nbformat_minor": 5
}
