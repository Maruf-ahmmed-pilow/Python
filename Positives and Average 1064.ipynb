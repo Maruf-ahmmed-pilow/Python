{
 "cells": [
  {
   "cell_type": "markdown",
   "id": "15fd1c70",
   "metadata": {},
   "source": [
    "Read 6 values that can be floating point numbers. After, print how many of them were positive. In the next line, print the average of all positive values typed, with one digit after the decimal point.\n",
    "\n",
    "Input:\n",
    "The input consist in 6 numbers that can be integer or floating point values. At least one number will be positive.\n",
    "\n",
    "Output:\n",
    "The first output value is the amount of positive numbers. The next line should show the average of the positive values ​typed."
   ]
  },
  {
   "cell_type": "code",
   "execution_count": 8,
   "id": "f6d6cf54",
   "metadata": {},
   "outputs": [
    {
     "name": "stdout",
     "output_type": "stream",
     "text": [
      "4\n",
      "5\n",
      "-7\n",
      "8\n",
      "-8\n",
      "-5\n",
      "3 valores positivos\n",
      "5.666666666666667\n"
     ]
    }
   ],
   "source": [
    "p=0\n",
    "avg=0\n",
    "for i in range(6):\n",
    "    a=float(input())\n",
    "    if a>0:\n",
    "        p+=1\n",
    "        avg+=a\n",
    "print(f'''{p} valores positivos\n",
    "{(avg/p)}''')"
   ]
  },
  {
   "cell_type": "code",
   "execution_count": null,
   "id": "a9a8b57e",
   "metadata": {},
   "outputs": [],
   "source": []
  }
 ],
 "metadata": {
  "kernelspec": {
   "display_name": "Python 3 (ipykernel)",
   "language": "python",
   "name": "python3"
  },
  "language_info": {
   "codemirror_mode": {
    "name": "ipython",
    "version": 3
   },
   "file_extension": ".py",
   "mimetype": "text/x-python",
   "name": "python",
   "nbconvert_exporter": "python",
   "pygments_lexer": "ipython3",
   "version": "3.9.12"
  }
 },
 "nbformat": 4,
 "nbformat_minor": 5
}
