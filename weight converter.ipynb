{
 "cells": [
  {
   "cell_type": "code",
   "execution_count": 1,
   "id": "e3208e89",
   "metadata": {},
   "outputs": [
    {
     "name": "stdout",
     "output_type": "stream",
     "text": [
      "weight: 45\n",
      "(L)bs or (K)g: 45\n",
      "you are 100.0 pounds\n"
     ]
    }
   ],
   "source": [
    "weight = int (input('weight: '))\n",
    "unit = input('(L)bs or (K)g: ')\n",
    "if unit.upper() == \"L\":\n",
    "    converted = weight*0.45\n",
    "    print(f\"You are {converted} kilos\")\n",
    "else:\n",
    "    converted = weight/0.45\n",
    "    print(f\"you are {converted} pounds\")"
   ]
  },
  {
   "cell_type": "code",
   "execution_count": null,
   "id": "dbc19255",
   "metadata": {},
   "outputs": [],
   "source": []
  }
 ],
 "metadata": {
  "kernelspec": {
   "display_name": "Python 3 (ipykernel)",
   "language": "python",
   "name": "python3"
  },
  "language_info": {
   "codemirror_mode": {
    "name": "ipython",
    "version": 3
   },
   "file_extension": ".py",
   "mimetype": "text/x-python",
   "name": "python",
   "nbconvert_exporter": "python",
   "pygments_lexer": "ipython3",
   "version": "3.9.12"
  }
 },
 "nbformat": 4,
 "nbformat_minor": 5
}
