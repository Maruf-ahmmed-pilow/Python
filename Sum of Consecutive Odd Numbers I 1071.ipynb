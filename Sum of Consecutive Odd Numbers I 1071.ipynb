{
 "cells": [
  {
   "cell_type": "markdown",
   "id": "a49c2748",
   "metadata": {},
   "source": [
    "Read two integer values X and Y. Print the sum of all odd values between them.\n",
    "\n",
    "Input:\n",
    "The input file contain two integer values.\n",
    "\n",
    "Output:\n",
    "The program must print an integer number. This number is the sum off all odd values between both input values that must fit in an integer number.\n",
    "\n"
   ]
  },
  {
   "cell_type": "code",
   "execution_count": 4,
   "id": "22277259",
   "metadata": {},
   "outputs": [
    {
     "name": "stdout",
     "output_type": "stream",
     "text": [
      "6\n",
      "-5\n",
      "5\n"
     ]
    }
   ],
   "source": [
    "a=int(input())\n",
    "b=int(input())\n",
    "sum = 0\n",
    "for i in range(a-1,b,-1):\n",
    "    if i%2 == 1:\n",
    "        sum += i\n",
    "print(sum)"
   ]
  },
  {
   "cell_type": "code",
   "execution_count": null,
   "id": "6b64c59c",
   "metadata": {},
   "outputs": [],
   "source": []
  }
 ],
 "metadata": {
  "kernelspec": {
   "display_name": "Python 3 (ipykernel)",
   "language": "python",
   "name": "python3"
  },
  "language_info": {
   "codemirror_mode": {
    "name": "ipython",
    "version": 3
   },
   "file_extension": ".py",
   "mimetype": "text/x-python",
   "name": "python",
   "nbconvert_exporter": "python",
   "pygments_lexer": "ipython3",
   "version": "3.9.12"
  }
 },
 "nbformat": 4,
 "nbformat_minor": 5
}
