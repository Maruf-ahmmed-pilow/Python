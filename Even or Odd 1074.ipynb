{
 "cells": [
  {
   "cell_type": "markdown",
   "id": "f4a432e8",
   "metadata": {},
   "source": [
    "Read an integer value N. After, read these N values and print a message for each value saying if this value is odd, even, positive or negative. In case of zero (0), although the correct description would be \"EVEN NULL\", because by definition zero is even, your program must print only \"NULL\", without quotes.\n",
    "\n",
    "Input:\n",
    "The first line of input is an integer N (N < 10000), that indicates the total number of test cases. Each case is a integer number X (-107 < X <107)..\n",
    "\n",
    "Output:\n",
    "For each test case, print a corresponding message, according to the below example. All messages must be printed in uppercase letters and always will have one space between two words in the same line."
   ]
  },
  {
   "cell_type": "code",
   "execution_count": 5,
   "id": "b9957eda",
   "metadata": {},
   "outputs": [
    {
     "name": "stdout",
     "output_type": "stream",
     "text": [
      "4\n",
      "-5\n",
      "ODD NEGATIVE\n",
      "0\n",
      "NULL\n",
      "3\n",
      "ODD POSITIVE\n",
      "-4\n",
      "EVEN NEGATIVE\n"
     ]
    }
   ],
   "source": [
    "for i in range(int(input())):\n",
    "    m=int(input())\n",
    "    if m==0:\n",
    "        print('NULL')\n",
    "    elif m%2==0:\n",
    "        if m>0:\n",
    "            print('EVEN POSITIVE')\n",
    "        else:\n",
    "            print('EVEN NEGATIVE')\n",
    "    else:\n",
    "        if m>0:\n",
    "            print('ODD POSITIVE')\n",
    "        else:\n",
    "            print('ODD NEGATIVE')"
   ]
  },
  {
   "cell_type": "code",
   "execution_count": 3,
   "id": "572a3c68",
   "metadata": {},
   "outputs": [
    {
     "name": "stdout",
     "output_type": "stream",
     "text": [
      "4\n",
      "-5\n",
      "ODD NEGATIVE\n",
      "0\n",
      "NULL\n",
      "3\n",
      "ODD POSITIVE\n",
      "-4\n",
      "EVEN NEGATIVE\n"
     ]
    }
   ],
   "source": [
    "for i in range(int(input())):\n",
    "    m=int(input())\n",
    "    if m%2 !=0 and m<0:\n",
    "        print(\"ODD NEGATIVE\")\n",
    "    elif m==0:\n",
    "        print(\"NULL\")\n",
    "    elif m%2 != 0 and m>0:\n",
    "        print(\"ODD POSITIVE\")\n",
    "    elif m%2 == 0 and m<0:\n",
    "        print(\"EVEN NEGATIVE\")"
   ]
  }
 ],
 "metadata": {
  "kernelspec": {
   "display_name": "Python 3 (ipykernel)",
   "language": "python",
   "name": "python3"
  },
  "language_info": {
   "codemirror_mode": {
    "name": "ipython",
    "version": 3
   },
   "file_extension": ".py",
   "mimetype": "text/x-python",
   "name": "python",
   "nbconvert_exporter": "python",
   "pygments_lexer": "ipython3",
   "version": "3.9.12"
  }
 },
 "nbformat": 4,
 "nbformat_minor": 5
}
