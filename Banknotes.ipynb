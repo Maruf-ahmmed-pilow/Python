{
 "cells": [
  {
   "cell_type": "markdown",
   "id": "ab9dfaf2",
   "metadata": {},
   "source": [
    "In this problem you have to read an integer value and calculate the smallest possible number of banknotes in which the value may be decomposed. The possible banknotes are 100, 50, 20, 10, 5, 2 e 1. Print the read value and the list of banknotes.\n",
    "\n",
    "Input\n",
    "The input file contains an integer value N (0 < N < 1000000).\n",
    "\n",
    "Output\n",
    "Print the read number and the minimum quantity of each necessary banknotes in Portuguese language, as the given example. Do not forget to print the end of line after each line, otherwise you will receive “Presentation Error”."
   ]
  },
  {
   "cell_type": "code",
   "execution_count": 5,
   "id": "e77f6bff",
   "metadata": {},
   "outputs": [
    {
     "name": "stdout",
     "output_type": "stream",
     "text": [
      "576\n",
      "576\n",
      "5 nota(s) de R$ 100,00\n",
      "11 nota(s) de R$ 50,00\n",
      "28 nota(s) de R$ 20,00\n",
      "57 nota(s) de R$ 10,00\n",
      "115 nota(s) de R$ 5,00\n",
      "288 nota(s) de R$ 2,00\n",
      "576 nota(s) de R$ 1,00\n"
     ]
    }
   ],
   "source": [
    "a=int(input())\n",
    "\n",
    "print(a)\n",
    "\n",
    "for i in [100,50,20,10,5,2,1]:\n",
    "    print(f\"{a//i} nota(s) de R$ {i},00\")"
   ]
  },
  {
   "cell_type": "code",
   "execution_count": 4,
   "id": "3a78af2a",
   "metadata": {},
   "outputs": [
    {
     "name": "stdout",
     "output_type": "stream",
     "text": [
      "576\n",
      "576\n",
      "5 nota(s) de R$ 100,00\n",
      "1 nota(s) de R$ 50,00\n",
      "1 nota(s) de R$ 20,00\n",
      "0 nota(s) de R$ 10,00\n",
      "1 nota(s) de R$ 5,00\n",
      "0 nota(s) de R$ 2,00\n",
      "1 nota(s) de R$ 1,00\n"
     ]
    }
   ],
   "source": [
    "a=int(input())\n",
    "\n",
    "print(a)\n",
    "\n",
    "for i in [100,50,20,10,5,2,1]:\n",
    "    print(f\"{a//i} nota(s) de R$ {i},00\")\n",
    "    a=a%i"
   ]
  }
 ],
 "metadata": {
  "kernelspec": {
   "display_name": "Python 3 (ipykernel)",
   "language": "python",
   "name": "python3"
  },
  "language_info": {
   "codemirror_mode": {
    "name": "ipython",
    "version": 3
   },
   "file_extension": ".py",
   "mimetype": "text/x-python",
   "name": "python",
   "nbconvert_exporter": "python",
   "pygments_lexer": "ipython3",
   "version": "3.9.12"
  }
 },
 "nbformat": 4,
 "nbformat_minor": 5
}
