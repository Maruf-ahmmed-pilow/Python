{
 "cells": [
  {
   "cell_type": "markdown",
   "id": "23bb978f",
   "metadata": {},
   "source": [
    "Maria has just started as graduate student in a medical school and she's needing your help to organize a laboratory experiment which she is responsible about. She wants to know, at the end of the year, how many animals were used in this laboratory and the percentage of each type of animal is used at all.\n",
    "\n",
    "This laboratory uses in particular three types of animals: frogs, rats and rabbits. To obtain this information, it knows exactly the number of experiments that were performed, the type and quantity of each animal is used in each experiment.\n",
    "\n",
    "Input:\n",
    "The first line of input contains an integer N indicating the number of test cases that follows. Each test case contains an integer Amount (1 ≤ Amount ≤ 15) which represents the amount of animal used and a character Type ('C', 'R' or 'S'), indicating the type of animal:\n",
    "- C: Coelho (rabbit in portuguese)\n",
    "- R: Rato (rat  in portuguese)\n",
    "- S: Sapo (frog in portuguese)\n",
    "\n",
    "Output:\n",
    "Print the total of animals used, the total of each type of animal and the percentual of each one in relation of the total of animals used. The percentual must be printed with 2 digits after the decimal point."
   ]
  },
  {
   "cell_type": "code",
   "execution_count": 2,
   "id": "162fe0d7",
   "metadata": {},
   "outputs": [
    {
     "name": "stdout",
     "output_type": "stream",
     "text": [
      "10\n",
      "10 C\n",
      "6 R\n",
      "15 S\n",
      "5 C\n",
      "14 R\n",
      "9 C\n",
      "6 R\n",
      "8 S\n",
      "5 C\n",
      "14 R\n",
      "Total: 92 cobaias\n",
      "Total de coelhos: 29\n",
      "Total de ratos: 40\n",
      "Total de sapos: 23\n",
      "Percentual de coelhos: 31.52 %\n",
      "Percentual de ratos: 43.48 %\n",
      "Percentual de sapos: 25.00 %\n"
     ]
    }
   ],
   "source": [
    "n=int(input())\n",
    "c=0\n",
    "r=0\n",
    "s=0\n",
    "for i in range(n):\n",
    "    a=input().split()\n",
    "    m=a[0]\n",
    "    m=int(m)\n",
    "    p=a[-1]\n",
    "    if p==\"C\":\n",
    "        c=c+m\n",
    "    if p==\"R\":\n",
    "        r=r+m\n",
    "    if p==\"S\":\n",
    "        s=s+m\n",
    "    \n",
    "t=c+r+s\n",
    "print(\"Total: {} cobaias\".format(t))\n",
    "print(\"Total de coelhos: {}\".format(c))\n",
    "print(\"Total de ratos: {}\".format(r))\n",
    "print(\"Total de sapos: {}\".format(s))\n",
    "print(\"Percentual de coelhos: {} %\".format(\"%0.2f\"%((c/t)*100)))\n",
    "print(\"Percentual de ratos: {} %\".format(\"%0.2f\"%((r/t)*100)))\n",
    "print(\"Percentual de sapos: {} %\".format(\"%0.2f\"%((s/t)*100)))"
   ]
  },
  {
   "cell_type": "code",
   "execution_count": null,
   "id": "95162679",
   "metadata": {},
   "outputs": [],
   "source": []
  }
 ],
 "metadata": {
  "kernelspec": {
   "display_name": "Python 3 (ipykernel)",
   "language": "python",
   "name": "python3"
  },
  "language_info": {
   "codemirror_mode": {
    "name": "ipython",
    "version": 3
   },
   "file_extension": ".py",
   "mimetype": "text/x-python",
   "name": "python",
   "nbconvert_exporter": "python",
   "pygments_lexer": "ipython3",
   "version": "3.9.12"
  }
 },
 "nbformat": 4,
 "nbformat_minor": 5
}
