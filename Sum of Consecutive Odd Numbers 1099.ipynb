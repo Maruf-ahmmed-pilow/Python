{
 "cells": [
  {
   "cell_type": "markdown",
   "id": "c5b6ae72",
   "metadata": {},
   "source": [
    "Read an integer N that is the number of test cases. Each test case is a line containing two integer numbers X and Y. Print the sum of all odd values between them, not including X and Y.\n",
    "\n",
    "Input:\n",
    "The first line of input is an integer N that is the number of test cases that follow. Each test case is a line containing two integer X and Y.\n",
    "\n",
    "Output:\n",
    "Print the sum of all odd numbers between X and Y."
   ]
  },
  {
   "cell_type": "code",
   "execution_count": 2,
   "id": "435781fc",
   "metadata": {},
   "outputs": [
    {
     "name": "stdout",
     "output_type": "stream",
     "text": [
      "5\n",
      "5\n"
     ]
    }
   ],
   "source": [
    "n=int(input())\n",
    "print(n)"
   ]
  },
  {
   "cell_type": "code",
   "execution_count": 3,
   "id": "2b62e0ad",
   "metadata": {},
   "outputs": [
    {
     "name": "stdout",
     "output_type": "stream",
     "text": [
      "5 6\n",
      "5 6\n"
     ]
    }
   ],
   "source": [
    "x,y=map(int, input().split())\n",
    "print(x,y)"
   ]
  },
  {
   "cell_type": "code",
   "execution_count": 4,
   "id": "5c7d6325",
   "metadata": {},
   "outputs": [
    {
     "name": "stdout",
     "output_type": "stream",
     "text": [
      "7\n",
      "4 5\n",
      "0\n",
      "13 10\n",
      "11\n",
      "6 4\n",
      "5\n",
      "3 3\n",
      "0\n",
      "3 5\n",
      "0\n",
      "3 4\n",
      "0\n",
      "3 8\n",
      "12\n"
     ]
    }
   ],
   "source": [
    "n = int(input())\n",
    "for i in range(n):\n",
    "    a,b = list(map(int, input().split()))\n",
    "    d = 0\n",
    "    if(a==b):\n",
    "        print(0)\n",
    "    else:\n",
    "        c = 0\n",
    "        if (a > b):\n",
    "            c = a\n",
    "            a = b\n",
    "            b = c\n",
    "        while (a < ( b- 1)):\n",
    "            a += 1\n",
    "            if(a % 2 != 0):\n",
    "                d+= a\n",
    "        print(d)"
   ]
  },
  {
   "cell_type": "code",
   "execution_count": null,
   "id": "ffc5de82",
   "metadata": {},
   "outputs": [],
   "source": []
  }
 ],
 "metadata": {
  "kernelspec": {
   "display_name": "Python 3 (ipykernel)",
   "language": "python",
   "name": "python3"
  },
  "language_info": {
   "codemirror_mode": {
    "name": "ipython",
    "version": 3
   },
   "file_extension": ".py",
   "mimetype": "text/x-python",
   "name": "python",
   "nbconvert_exporter": "python",
   "pygments_lexer": "ipython3",
   "version": "3.9.12"
  }
 },
 "nbformat": 4,
 "nbformat_minor": 5
}
