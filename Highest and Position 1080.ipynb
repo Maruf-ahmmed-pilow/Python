{
 "cells": [
  {
   "cell_type": "markdown",
   "id": "adaafff2",
   "metadata": {},
   "source": [
    "Read 100 integer numbers. Print the highest read value and the input position.\n",
    "\n",
    "Input:\n",
    "The input file contains 100 distinct positive integer numbers.\n",
    "\n",
    "Output:\n",
    "Print the highest number read and the input position of this value, according to the given example"
   ]
  },
  {
   "cell_type": "code",
   "execution_count": 1,
   "id": "8d434fa8",
   "metadata": {},
   "outputs": [
    {
     "name": "stdout",
     "output_type": "stream",
     "text": [
      "5\n",
      "23\n",
      "36\n",
      "55\n",
      "522\n",
      "695\n",
      "2\n",
      "3\n",
      "3\n",
      "695\n",
      "6\n"
     ]
    }
   ],
   "source": [
    "a=[]\n",
    "for i in range(1, 101):\n",
    "    a.append(int(input()))\n",
    "m=max(a)\n",
    "n=a.index(m)\n",
    "print(m)\n",
    "print(n+1)"
   ]
  },
  {
   "cell_type": "code",
   "execution_count": null,
   "id": "fd742694",
   "metadata": {},
   "outputs": [],
   "source": []
  },
  {
   "cell_type": "code",
   "execution_count": null,
   "id": "88cddfb9",
   "metadata": {},
   "outputs": [],
   "source": []
  }
 ],
 "metadata": {
  "kernelspec": {
   "display_name": "Python 3 (ipykernel)",
   "language": "python",
   "name": "python3"
  },
  "language_info": {
   "codemirror_mode": {
    "name": "ipython",
    "version": 3
   },
   "file_extension": ".py",
   "mimetype": "text/x-python",
   "name": "python",
   "nbconvert_exporter": "python",
   "pygments_lexer": "ipython3",
   "version": "3.9.12"
  }
 },
 "nbformat": 4,
 "nbformat_minor": 5
}
