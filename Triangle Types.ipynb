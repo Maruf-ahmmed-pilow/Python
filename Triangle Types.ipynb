{
 "cells": [
  {
   "cell_type": "markdown",
   "id": "fca5a286",
   "metadata": {},
   "source": [
    "Read 3 double numbers (A, B and C) representing the sides of a triangle and arrange them in decreasing order, so that the side A is the biggest of the three sides. Next, determine the type of triangle that they can make, based on the following cases always writing an appropriate message:\n",
    "if A ≥ B + C, write the message: NAO FORMA TRIANGULO\n",
    "if A2 = B2 + C2, write the message: TRIANGULO RETANGULO\n",
    "if A2 > B2 + C2, write the message: TRIANGULO OBTUSANGULO\n",
    "if A2 < B2 + C2, write the message: TRIANGULO ACUTANGULO\n",
    "if the three sides are the same size, write the message: TRIANGULO EQUILATERO\n",
    "if only two sides are the same and the third one is different, write the message: TRIANGULO ISOSCELES\n",
    "Input\n",
    "The input contains three double numbers, A (0 < A) , B (0 < B) and C (0 < C).\n",
    "\n",
    "Output\n",
    "Print all the classifications of the triangle presented in the input."
   ]
  },
  {
   "cell_type": "code",
   "execution_count": 9,
   "id": "db5ad1f3",
   "metadata": {},
   "outputs": [
    {
     "name": "stdout",
     "output_type": "stream",
     "text": [
      "7 5 7\n",
      "TRIANGULO ACUTANGULO\n",
      "TRIANGULO ISOSCELES\n"
     ]
    }
   ],
   "source": [
    "A,B,C=sorted(list(map(float,input().split())), reverse=True)\n",
    "if A>=(B+C):\n",
    "    print(\"NAO FORMA TRIANGULO\")\n",
    "elif (A**2)==(B**2 + C**2):\n",
    "    print(\"TRIANGULO RETANGULO\")\n",
    "elif (A**2)>(B**2 + C**2):\n",
    "    print(\"TRIANGULO OBTUSANGULO\")\n",
    "elif (A**2)<(B**2 + C**2): \n",
    "    print(\"TRIANGULO ACUTANGULO\")\n",
    "if A==B==C:\n",
    "    print(\"TRIANGULO EQUILATERO\")\n",
    "elif A==B or B==C:\n",
    "    print(\"TRIANGULO ISOSCELES\")"
   ]
  },
  {
   "cell_type": "markdown",
   "id": "798bb478",
   "metadata": {},
   "source": [
    "shorted means reverse it arrenge the value increase to decrease \n",
    "but when i put reverse = true then it arrenge the value decrease to increase"
   ]
  },
  {
   "cell_type": "code",
   "execution_count": null,
   "id": "04f3706b",
   "metadata": {},
   "outputs": [],
   "source": []
  }
 ],
 "metadata": {
  "kernelspec": {
   "display_name": "Python 3 (ipykernel)",
   "language": "python",
   "name": "python3"
  },
  "language_info": {
   "codemirror_mode": {
    "name": "ipython",
    "version": 3
   },
   "file_extension": ".py",
   "mimetype": "text/x-python",
   "name": "python",
   "nbconvert_exporter": "python",
   "pygments_lexer": "ipython3",
   "version": "3.9.12"
  }
 },
 "nbformat": 4,
 "nbformat_minor": 5
}
