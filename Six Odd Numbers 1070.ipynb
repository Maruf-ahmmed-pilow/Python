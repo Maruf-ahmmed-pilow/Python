{
 "cells": [
  {
   "cell_type": "code",
   "execution_count": 3,
   "id": "d544452e",
   "metadata": {},
   "outputs": [
    {
     "name": "stdout",
     "output_type": "stream",
     "text": [
      "8\n",
      "9\n",
      "11\n",
      "13\n",
      "15\n",
      "17\n",
      "19\n"
     ]
    }
   ],
   "source": [
    "x=int(input())\n",
    "odd=[]\n",
    "while True:\n",
    "    if x%2==1:\n",
    "        print(x)\n",
    "        odd.append(x)\n",
    "        if len(odd)==6:\n",
    "            break\n",
    "    x += 1"
   ]
  },
  {
   "cell_type": "markdown",
   "id": "64c5b26e",
   "metadata": {},
   "source": [
    "Read an integer value X and print the 6 consecutive odd numbers \n",
    "from X, a value per line, including X if it is the case.\n",
    "\n",
    "Input:\n",
    "The input will be a positive integer value.\n",
    "\n",
    "Output:\n",
    "The output will be a sequence of six odd numbers."
   ]
  }
 ],
 "metadata": {
  "kernelspec": {
   "display_name": "Python 3 (ipykernel)",
   "language": "python",
   "name": "python3"
  },
  "language_info": {
   "codemirror_mode": {
    "name": "ipython",
    "version": 3
   },
   "file_extension": ".py",
   "mimetype": "text/x-python",
   "name": "python",
   "nbconvert_exporter": "python",
   "pygments_lexer": "ipython3",
   "version": "3.9.12"
  }
 },
 "nbformat": 4,
 "nbformat_minor": 5
}
