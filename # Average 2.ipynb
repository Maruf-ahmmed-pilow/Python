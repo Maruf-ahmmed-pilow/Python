{
 "cells": [
  {
   "cell_type": "markdown",
   "id": "1a651c9c",
   "metadata": {},
   "source": [
    "# Average 2\n"
   ]
  },
  {
   "cell_type": "markdown",
   "id": "8fe95bee",
   "metadata": {},
   "source": [
    "Read three values (variables A, B and C), which are the three student's grades. Then, calculate the average, considering that grade A has weight 2, grade B has weight 3 and the grade C has weight 5. Consider that each grade can go from 0 to 10.0, always with one decimal place"
   ]
  },
  {
   "cell_type": "code",
   "execution_count": null,
   "id": "b3ce7203",
   "metadata": {},
   "outputs": [],
   "source": [
    "a=float(input())\n",
    "b=float(input())\n",
    "c=float(input())\n",
    "d=(a*2+b*3+c*5)/(2+3+5)\n",
    "print(\"MEDIA = \", d)"
   ]
  },
  {
   "cell_type": "code",
   "execution_count": 1,
   "id": "eb37a1dd",
   "metadata": {},
   "outputs": [
    {
     "name": "stdout",
     "output_type": "stream",
     "text": [
      "5\n",
      "6\n",
      "7\n",
      "MEDIA = 6.3\n"
     ]
    }
   ],
   "source": [
    "a=float(input())\n",
    "b=float(input())\n",
    "c=float(input())\n",
    "d=(a*2+b*3+c*5)/(2+3+5)\n",
    "print(\"MEDIA = %.1f\"%d)"
   ]
  },
  {
   "cell_type": "code",
   "execution_count": null,
   "id": "7fbce400",
   "metadata": {},
   "outputs": [],
   "source": [
    "a=float(input())\n",
    "b=float(input())\n",
    "c=float(input())\n",
    "e=(a*2+b*3+c*5)/(2+3+5)\n",
    "print(\"MEDIA = %.f\"%e)"
   ]
  },
  {
   "cell_type": "code",
   "execution_count": null,
   "id": "91f00abb",
   "metadata": {},
   "outputs": [],
   "source": []
  }
 ],
 "metadata": {
  "kernelspec": {
   "display_name": "Python 3 (ipykernel)",
   "language": "python",
   "name": "python3"
  },
  "language_info": {
   "codemirror_mode": {
    "name": "ipython",
    "version": 3
   },
   "file_extension": ".py",
   "mimetype": "text/x-python",
   "name": "python",
   "nbconvert_exporter": "python",
   "pygments_lexer": "ipython3",
   "version": "3.9.12"
  }
 },
 "nbformat": 4,
 "nbformat_minor": 5
}
