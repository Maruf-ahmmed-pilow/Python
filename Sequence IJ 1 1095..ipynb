{
 "cells": [
  {
   "cell_type": "markdown",
   "id": "9b8b4c55",
   "metadata": {},
   "source": [
    "Make a program that prints the sequence like the following example.\n",
    "\n",
    "Input:\n",
    "This problem doesn't have input.\n",
    "\n",
    "Output:\n",
    "Print the sequence like the example below."
   ]
  },
  {
   "cell_type": "markdown",
   "id": "3bfa7a78",
   "metadata": {},
   "source": [
    "I=1 J=60\n",
    "I=4 J=55\n",
    "I=7 J=50\n",
    "...\n",
    "I=? J=0"
   ]
  },
  {
   "cell_type": "code",
   "execution_count": 1,
   "id": "8f19bb12",
   "metadata": {},
   "outputs": [
    {
     "name": "stdout",
     "output_type": "stream",
     "text": [
      "I=1 J=60\n",
      "I=4 J=55\n",
      "I=7 J=50\n",
      "I=10 J=45\n",
      "I=13 J=40\n",
      "I=16 J=35\n",
      "I=19 J=30\n",
      "I=22 J=25\n",
      "I=25 J=20\n",
      "I=28 J=15\n",
      "I=31 J=10\n",
      "I=34 J=5\n",
      "I=37 J=0\n"
     ]
    }
   ],
   "source": [
    "I=1\n",
    "J=60\n",
    "while J>=0:\n",
    "    print(\"I={}\".format(I),end=\" \")\n",
    "    print(\"J={}\".format(J))\n",
    "    I+=3\n",
    "    J-=5"
   ]
  },
  {
   "cell_type": "code",
   "execution_count": null,
   "id": "b12fea33",
   "metadata": {},
   "outputs": [],
   "source": [
    "i=1\n",
    "j=60\n",
    "while j>=0:\n",
    "    print(f'I={i} J={j}')\n",
    "    i+=3\n",
    "    j-=5"
   ]
  },
  {
   "cell_type": "code",
   "execution_count": null,
   "id": "c17c9081",
   "metadata": {},
   "outputs": [],
   "source": []
  }
 ],
 "metadata": {
  "kernelspec": {
   "display_name": "Python 3 (ipykernel)",
   "language": "python",
   "name": "python3"
  },
  "language_info": {
   "codemirror_mode": {
    "name": "ipython",
    "version": 3
   },
   "file_extension": ".py",
   "mimetype": "text/x-python",
   "name": "python",
   "nbconvert_exporter": "python",
   "pygments_lexer": "ipython3",
   "version": "3.9.12"
  }
 },
 "nbformat": 4,
 "nbformat_minor": 5
}
