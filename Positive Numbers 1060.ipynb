{
 "cells": [
  {
   "cell_type": "markdown",
   "id": "ee36f64a",
   "metadata": {},
   "source": [
    "Write a program that reads 6 numbers. These numbers will only be positive or negative (disregard null values). Print the total number of positive numbers.\n",
    "\n",
    "Input:\n",
    "Six numbers, positive and/or negative.\n",
    "\n",
    "Output:\n",
    "Print a message with the total number of positive numbers."
   ]
  },
  {
   "cell_type": "code",
   "execution_count": 1,
   "id": "b8b16609",
   "metadata": {},
   "outputs": [
    {
     "name": "stdout",
     "output_type": "stream",
     "text": [
      "7\n",
      "-5\n",
      "6\n",
      "-3.4\n",
      "4.6\n",
      "12\n",
      "4 valores positivos\n"
     ]
    }
   ],
   "source": [
    "a=0\n",
    "for i in range(6):\n",
    "    b=float(input())\n",
    "    if b>0:\n",
    "        a+=1\n",
    "print(f\"{a} valores positivos\")"
   ]
  },
  {
   "cell_type": "code",
   "execution_count": null,
   "id": "ca21e51a",
   "metadata": {},
   "outputs": [],
   "source": [
    "if i didn't write a=0 it add all the positive n"
   ]
  },
  {
   "cell_type": "code",
   "execution_count": 2,
   "id": "bf94f5d2",
   "metadata": {},
   "outputs": [
    {
     "name": "stdout",
     "output_type": "stream",
     "text": [
      "7\n",
      "56\n",
      "6\n",
      "-1\n",
      "2\n",
      "-12\n",
      "8 valores positivos\n"
     ]
    }
   ],
   "source": [
    "for i in range(6):\n",
    "    b=float(input())\n",
    "    if b>0:\n",
    "        a+=1\n",
    "print(f\"{a} valores positivos\")"
   ]
  },
  {
   "cell_type": "code",
   "execution_count": null,
   "id": "ff5f230e",
   "metadata": {},
   "outputs": [],
   "source": []
  }
 ],
 "metadata": {
  "kernelspec": {
   "display_name": "Python 3 (ipykernel)",
   "language": "python",
   "name": "python3"
  },
  "language_info": {
   "codemirror_mode": {
    "name": "ipython",
    "version": 3
   },
   "file_extension": ".py",
   "mimetype": "text/x-python",
   "name": "python",
   "nbconvert_exporter": "python",
   "pygments_lexer": "ipython3",
   "version": "3.9.12"
  }
 },
 "nbformat": 4,
 "nbformat_minor": 5
}
