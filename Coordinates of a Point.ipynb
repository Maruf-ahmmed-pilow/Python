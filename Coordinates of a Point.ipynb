{
 "cells": [
  {
   "cell_type": "markdown",
   "id": "257c449c",
   "metadata": {},
   "source": [
    "Write an algorithm that reads two floating values (x and y), which should represent the coordinates of a point in a plane. Next, determine which quadrant the point belongs, or if you are at one of the Cartesian axes or the origin (x = y = 0).\n",
    "\n",
    "\n",
    "\n",
    "If the point is at the origin, write the message \"Origem\".\n",
    "\n",
    "If the point is at X axis write \"Eixo X\", else if the point is at Y axis write \"Eixo Y\".\n",
    "\n",
    "Input:\n",
    "The input contains the coordinates of a point.\n",
    "\n",
    "Output:\n",
    "The output should display the quadrant in which the point is."
   ]
  },
  {
   "cell_type": "code",
   "execution_count": 1,
   "id": "885d9935",
   "metadata": {},
   "outputs": [
    {
     "name": "stdout",
     "output_type": "stream",
     "text": [
      "4 5\n",
      "Q1\n"
     ]
    }
   ],
   "source": [
    "x,y = list(map(float,input().split()))\n",
    "\n",
    "if x==0 and y==0:\n",
    "     print('Origem')\n",
    "elif x==0 or y==0:\n",
    "    print(\"Eixo X\") if y==0 else print(\"Eixo Y\")\n",
    "        \n",
    "elif x>0:\n",
    "    print('Q1') if y>0 else print(\"Q4\")\n",
    "else:\n",
    "    print(\"Q2\") if y>0 else print(\"Q3\")\n"
   ]
  },
  {
   "cell_type": "code",
   "execution_count": null,
   "id": "82ada4e0",
   "metadata": {},
   "outputs": [],
   "source": []
  },
  {
   "cell_type": "code",
   "execution_count": null,
   "id": "254a9475",
   "metadata": {},
   "outputs": [],
   "source": []
  }
 ],
 "metadata": {
  "kernelspec": {
   "display_name": "Python 3 (ipykernel)",
   "language": "python",
   "name": "python3"
  },
  "language_info": {
   "codemirror_mode": {
    "name": "ipython",
    "version": 3
   },
   "file_extension": ".py",
   "mimetype": "text/x-python",
   "name": "python",
   "nbconvert_exporter": "python",
   "pygments_lexer": "ipython3",
   "version": "3.9.12"
  }
 },
 "nbformat": 4,
 "nbformat_minor": 5
}
