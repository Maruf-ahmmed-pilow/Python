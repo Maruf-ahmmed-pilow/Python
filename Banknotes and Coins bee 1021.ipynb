{
 "cells": [
  {
   "cell_type": "code",
   "execution_count": 3,
   "id": "6a9ccaac",
   "metadata": {},
   "outputs": [
    {
     "name": "stdout",
     "output_type": "stream",
     "text": [
      "570.76\n",
      "NOTAS:\n",
      "5 nota(s) de R$ 100.00\n",
      "1 nota(s) de R$ 50.00\n",
      "1 nota(s) de R$ 20.00\n",
      "0 nota(s) de R$ 10.00\n",
      "0 nota(s) de R$ 5.00\n",
      "0 nota(s) de R$ 2.00\n",
      "MOEDAS:\n",
      "0 moeda(s) de R$ 1.00\n"
     ]
    },
    {
     "ename": "ValueError",
     "evalue": "could not convert string to float: '0.76:.2f'",
     "output_type": "error",
     "traceback": [
      "\u001b[1;31m---------------------------------------------------------------------------\u001b[0m",
      "\u001b[1;31mValueError\u001b[0m                                Traceback (most recent call last)",
      "Input \u001b[1;32mIn [3]\u001b[0m, in \u001b[0;36m<cell line: 11>\u001b[1;34m()\u001b[0m\n\u001b[0;32m     11\u001b[0m \u001b[38;5;28;01mfor\u001b[39;00m i \u001b[38;5;129;01min\u001b[39;00m [\u001b[38;5;241m1\u001b[39m, \u001b[38;5;241m0.50\u001b[39m, \u001b[38;5;241m0.25\u001b[39m, \u001b[38;5;241m0.10\u001b[39m, \u001b[38;5;241m0.05\u001b[39m, \u001b[38;5;241m0.01\u001b[39m]:\n\u001b[0;32m     12\u001b[0m     \u001b[38;5;28mprint\u001b[39m(\u001b[38;5;124mf\u001b[39m\u001b[38;5;124m'\u001b[39m\u001b[38;5;132;01m{\u001b[39;00m\u001b[38;5;28mint\u001b[39m(a\u001b[38;5;241m/\u001b[39mi)\u001b[38;5;132;01m}\u001b[39;00m\u001b[38;5;124m moeda(s) de R$ \u001b[39m\u001b[38;5;132;01m{\u001b[39;00mi\u001b[38;5;132;01m:\u001b[39;00m\u001b[38;5;124m.2f\u001b[39m\u001b[38;5;132;01m}\u001b[39;00m\u001b[38;5;124m'\u001b[39m)\n\u001b[1;32m---> 13\u001b[0m     a\u001b[38;5;241m=\u001b[39m\u001b[38;5;28;43mfloat\u001b[39;49m\u001b[43m(\u001b[49m\u001b[38;5;124;43mf\u001b[39;49m\u001b[38;5;124;43m'\u001b[39;49m\u001b[38;5;132;43;01m{\u001b[39;49;00m\u001b[43ma\u001b[49m\u001b[38;5;241;43m%\u001b[39;49m\u001b[43mi\u001b[49m\u001b[38;5;132;43;01m}\u001b[39;49;00m\u001b[38;5;124;43m:.2f\u001b[39;49m\u001b[38;5;124;43m'\u001b[39;49m\u001b[43m)\u001b[49m\n",
      "\u001b[1;31mValueError\u001b[0m: could not convert string to float: '0.76:.2f'"
     ]
    }
   ],
   "source": [
    "a=float(input())\n",
    "print(\"NOTAS:\")\n",
    "\n",
    "\n",
    "for i in [100, 50, 20, 10, 5, 2]:\n",
    "    print(f'{int(a/i)} nota(s) de R$ {i}.00')\n",
    "    a=float(f'{a%i:.2f}')\n",
    "\n",
    "print(\"MOEDAS:\")\n",
    "            \n",
    "for i in [1, 0.50, 0.25, 0.10, 0.05, 0.01]:\n",
    "    print(f'{int(a/i)} moeda(s) de R$ {i:.2f}')\n",
    "    a=float(f'{a%i:.2f')\n"
   ]
  },
  {
   "cell_type": "code",
   "execution_count": null,
   "id": "fad82cbe",
   "metadata": {},
   "outputs": [],
   "source": []
  },
  {
   "cell_type": "code",
   "execution_count": null,
   "id": "12190903",
   "metadata": {},
   "outputs": [],
   "source": []
  }
 ],
 "metadata": {
  "kernelspec": {
   "display_name": "Python 3 (ipykernel)",
   "language": "python",
   "name": "python3"
  },
  "language_info": {
   "codemirror_mode": {
    "name": "ipython",
    "version": 3
   },
   "file_extension": ".py",
   "mimetype": "text/x-python",
   "name": "python",
   "nbconvert_exporter": "python",
   "pygments_lexer": "ipython3",
   "version": "3.9.12"
  }
 },
 "nbformat": 4,
 "nbformat_minor": 5
}
