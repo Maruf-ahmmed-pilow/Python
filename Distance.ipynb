{
 "cells": [
  {
   "cell_type": "markdown",
   "id": "6f2e9745",
   "metadata": {},
   "source": [
    "Two cars (X and Y) leave in the same direction. The car X leaves with a constant speed of 60 km/h and the car Y leaves with a constant speed of 90 km / h.\n",
    "\n",
    "In one hour (60 minutes) the car Y can get a distance of 30 kilometers from the X car, in other words, it can get away one kilometer for each 2 minutes.\n",
    "\n",
    "Read the distance (in km) and calculate how long it takes (in minutes) for the car Y to take this distance in relation to the other car."
   ]
  },
  {
   "cell_type": "code",
   "execution_count": 2,
   "id": "6a044047",
   "metadata": {},
   "outputs": [
    {
     "name": "stdout",
     "output_type": "stream",
     "text": [
      "30\n",
      "60 minutos\n"
     ]
    }
   ],
   "source": [
    "X=int(input())\n",
    "print(2*X, 'minutos')"
   ]
  }
 ],
 "metadata": {
  "kernelspec": {
   "display_name": "Python 3 (ipykernel)",
   "language": "python",
   "name": "python3"
  },
  "language_info": {
   "codemirror_mode": {
    "name": "ipython",
    "version": 3
   },
   "file_extension": ".py",
   "mimetype": "text/x-python",
   "name": "python",
   "nbconvert_exporter": "python",
   "pygments_lexer": "ipython3",
   "version": "3.9.12"
  }
 },
 "nbformat": 4,
 "nbformat_minor": 5
}
