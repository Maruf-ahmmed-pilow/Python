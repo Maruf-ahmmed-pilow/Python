{
 "cells": [
  {
   "cell_type": "code",
   "execution_count": 8,
   "id": "728d3257",
   "metadata": {},
   "outputs": [
    {
     "name": "stdout",
     "output_type": "stream",
     "text": [
      "22\n",
      "wierd but ok\n"
     ]
    }
   ],
   "source": [
    "try:\n",
    "    n=input()\n",
    "    m=int(n)\n",
    "    if m%2 !=0:\n",
    "        print('Weird')\n",
    "    elif m%2==0 and 2<=m<=8:\n",
    "        print('not weird')\n",
    "    elif m%2==0 and 9<=m<=15:\n",
    "        print('Wierd and not ok')\n",
    "    elif m%2==0 and m>20:\n",
    "        print('wierd but ok')\n",
    "except ValueError:\n",
    "    print('The input value must be integer type')"
   ]
  },
  {
   "cell_type": "markdown",
   "id": "9752b0e6",
   "metadata": {},
   "source": [
    "Given an integer number, n , performe the following conditions :\n",
    "\n",
    "1.if n is odd , print Weird\n",
    "2.if n is even and in the range of 2 to 8, print not weird.\n",
    "3.if n even and range 9-15 print Wierd and not ok.\n",
    "4.if n is even and greter then 20 , print Wierd but ok.\n",
    "5.the input value must be integer type."
   ]
  },
  {
   "cell_type": "code",
   "execution_count": 11,
   "id": "47f6f441",
   "metadata": {},
   "outputs": [
    {
     "name": "stdout",
     "output_type": "stream",
     "text": [
      "22\n",
      "wierd but ok\n"
     ]
    }
   ],
   "source": [
    "n=int(input())\n",
    "if n%2 !=0:\n",
    "    print('Weird')\n",
    "elif n%2==0 and 2<=n<=8:\n",
    "    print('not weird')\n",
    "elif n%2==0 and 9<=n<=15:\n",
    "    print('Wierd and not ok')\n",
    "elif n%2==0 and n>20:\n",
    "    print('wierd but ok')"
   ]
  },
  {
   "cell_type": "code",
   "execution_count": 13,
   "id": "0603b92f",
   "metadata": {},
   "outputs": [
    {
     "name": "stdout",
     "output_type": "stream",
     "text": [
      "5\n",
      "Weird\n"
     ]
    }
   ],
   "source": [
    "n=input()\n",
    "m=int(n)\n",
    "if m%2 !=0:\n",
    "    print('Weird')\n",
    "elif m%2==0 and 2<=m<=8:\n",
    "    print('not weird')\n",
    "elif m%2==0 and 9<=m<=15:\n",
    "    print('Wierd and not ok')\n",
    "elif m%2==0 and m>20:\n",
    "    print('wierd but ok')"
   ]
  },
  {
   "cell_type": "code",
   "execution_count": 6,
   "id": "12f67e76",
   "metadata": {},
   "outputs": [
    {
     "name": "stdout",
     "output_type": "stream",
     "text": [
      "Enter a nummber\n",
      "a\n",
      "You are suppose give an Interger number\n"
     ]
    }
   ],
   "source": [
    "try:\n",
    "    print(\"Enter a nummber\")\n",
    "    given_number=int(input())\n",
    "    if (given_number%2)==0 and given_number>0:\n",
    "        print(\"Even\")\n",
    "    elif (given_number%2)==0 and given_number>0 and given_number in range(2,9):\n",
    "        print(\"Not wired\")\n",
    "    elif (given_number%2)==0 and given_number>0 and given_number in range(9,15):\n",
    "        print(\"Wired and not ok\")\n",
    "    elif (given_number%2)==0 and given_number>0 and given_number > 20:\n",
    "        print(\"Wired but ok\")\n",
    "    elif (given_number%2)!=0 and given_number>0:\n",
    "        print(\"Wried\")\n",
    "    elif given_number<0:\n",
    "        print(\"Negative Number does not requried\")\n",
    "    else:\n",
    "        print(\"Are you tring to devided 0!\")    \n",
    "except ValueError:\n",
    "    print(\"You are suppose give an Interger number\")"
   ]
  },
  {
   "cell_type": "code",
   "execution_count": 10,
   "id": "fbe0438b",
   "metadata": {},
   "outputs": [
    {
     "name": "stdout",
     "output_type": "stream",
     "text": [
      "22\n",
      "wierd but ok\n"
     ]
    }
   ],
   "source": [
    "try:\n",
    "    n=int(input())\n",
    "    if n%2 !=0:\n",
    "        print('Weird')\n",
    "    elif n%2==0 and 2<=n<=8:\n",
    "        print('not weird')\n",
    "    elif n%2==0 and 9<=n<=15:\n",
    "        print('Wierd and not ok')\n",
    "    elif n%2==0 and n>20:\n",
    "        print('wierd but ok')\n",
    "except ValueError:\n",
    "    print('The input value must be integer type')"
   ]
  },
  {
   "cell_type": "code",
   "execution_count": null,
   "id": "42a48299",
   "metadata": {},
   "outputs": [],
   "source": []
  }
 ],
 "metadata": {
  "kernelspec": {
   "display_name": "Python 3 (ipykernel)",
   "language": "python",
   "name": "python3"
  },
  "language_info": {
   "codemirror_mode": {
    "name": "ipython",
    "version": 3
   },
   "file_extension": ".py",
   "mimetype": "text/x-python",
   "name": "python",
   "nbconvert_exporter": "python",
   "pygments_lexer": "ipython3",
   "version": "3.9.12"
  }
 },
 "nbformat": 4,
 "nbformat_minor": 5
}
