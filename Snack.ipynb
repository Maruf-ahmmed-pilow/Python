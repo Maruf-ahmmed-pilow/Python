{
 "cells": [
  {
   "cell_type": "markdown",
   "id": "2381f671",
   "metadata": {},
   "source": [
    "Input:\n",
    "The input file contains two integer numbers X and Y. X is the product code and Y is the quantity of this item according to the above table.\n",
    "\n",
    "Output:\n",
    "The output must be a message \"Total: R$ \" followed by the total value to be paid, with 2 digits after the decimal point."
   ]
  },
  {
   "cell_type": "code",
   "execution_count": 1,
   "id": "4d84eb88",
   "metadata": {},
   "outputs": [
    {
     "name": "stdout",
     "output_type": "stream",
     "text": [
      "3 2\n",
      "Total: R$ 10.00\n"
     ]
    }
   ],
   "source": [
    "x,y=list(map(int,input().split()))\n",
    "price = [0,4,4.50,5,2,1.50]\n",
    "\n",
    "pay = price[x]*y\n",
    "\n",
    "print(f'Total: R$ {pay:.2f}')"
   ]
  },
  {
   "cell_type": "code",
   "execution_count": null,
   "id": "192feef4",
   "metadata": {},
   "outputs": [],
   "source": []
  }
 ],
 "metadata": {
  "kernelspec": {
   "display_name": "Python 3 (ipykernel)",
   "language": "python",
   "name": "python3"
  },
  "language_info": {
   "codemirror_mode": {
    "name": "ipython",
    "version": 3
   },
   "file_extension": ".py",
   "mimetype": "text/x-python",
   "name": "python",
   "nbconvert_exporter": "python",
   "pygments_lexer": "ipython3",
   "version": "3.9.12"
  }
 },
 "nbformat": 4,
 "nbformat_minor": 5
}
