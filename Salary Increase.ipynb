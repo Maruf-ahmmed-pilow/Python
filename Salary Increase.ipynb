{
 "cells": [
  {
   "cell_type": "markdown",
   "id": "6fc747a7",
   "metadata": {},
   "source": [
    "BEE 1048>\n",
    "The company ABC decided to give a salary increase to its employees, according to the following table:\n",
    "\n",
    "\n",
    "Salary\tReadjustment Rate\n",
    "0 - 400.00\n",
    "400.01 - 800.00\n",
    "800.01 - 1200.00\n",
    "1200.01 - 2000.00\n",
    "Above 2000.00\n",
    "\n",
    "15%\n",
    "12%\n",
    "10%\n",
    "7%\n",
    "4%\n",
    "\n",
    "\n",
    "Read the employee's salary, calculate and print the new employee's salary, as well the money earned and the increase percentual obtained by the employee, with corresponding messages in Portuguese, as the below example.\n",
    "Input\n",
    "The input contains only a floating-point number, with 2 digits after the decimal point.\n",
    "\n",
    "Output\n",
    "Print 3 messages followed by the corresponding numbers (see example) informing the new salary, the among of money earned (both must be shown with 2 decimal places) and the percentual obtained by the employee. Note:\n",
    "Novo salario:  means \"New Salary\"\n",
    "Reajuste ganho: means \"Money earned\"\n",
    "Em percentual: means \"In percentage\""
   ]
  },
  {
   "cell_type": "code",
   "execution_count": 2,
   "id": "43731079",
   "metadata": {},
   "outputs": [
    {
     "name": "stdout",
     "output_type": "stream",
     "text": [
      "400\n",
      "\n",
      "Novo salario: 460.00\n",
      "Reajuste ganho: 60.00\n",
      "Em percentual: 15 %\n",
      "\n"
     ]
    }
   ],
   "source": [
    "currentsalary = float(input())\n",
    "\n",
    "if currentsalary<=400:\n",
    "    percentage = 15\n",
    "elif currentsalary<=800:\n",
    "    percentage = 12\n",
    "elif currentsalary<=1200:\n",
    "    percentage = 10\n",
    "elif currentsalary<=2000:\n",
    "    percentage = 7\n",
    "else:\n",
    "    percentage = 4\n",
    "earn = currentsalary*percentage/100\n",
    "newsalary = currentsalary+earn\n",
    "print(f'''Novo salario: {newsalary:.2f}\n",
    "Reajuste ganho: {earn:.2f}\n",
    "Em percentual: {percentage} %''')"
   ]
  },
  {
   "cell_type": "code",
   "execution_count": null,
   "id": "611b013b",
   "metadata": {},
   "outputs": [],
   "source": [
    "#a = list(map(float, input().split()))\n",
    "a=float(input())\n",
    "if a<=400.00:\n",
    "    b= float((a * 0.15))\n",
    "    print(f\"Novo salario: {(b+a):.2f}\")\n",
    "    print(f\"Reajuste ganho: {b:.2f}\")\n",
    "    print(f\"Em percentual: 15 %\")\n",
    "elif a<=800:\n",
    "    b=float(b*0.12)\n",
    "    print(f\"Novo salario: {(b+a):.2f}\")\n",
    "    print(f\"Reajuste ganho: {b:.2f}\")\n",
    "    print(f\"Em percentual: 12 %\")\n",
    "    \n",
    "elif a<=1200:\n",
    "    b=float(b*0.1)\n",
    "    print(f\"Novo salario: {(b+a):.2f}\")\n",
    "    print(f\"Reajuste ganho: {b:.2f}\")\n",
    "    print(f\"Em percentual: 10 %\")\n",
    "    \n",
    "elif a<=2000:\n",
    "    b=float(b*0.07)\n",
    "    print(f\"Novo salario: {(b+a):.2f}\")\n",
    "    print(f\"Reajuste ganho: {b:.2f}\")\n",
    "    print(f\"Em percentual: 7 %\")\n",
    "    \n",
    "else:\n",
    "    b=float(b*0.04)\n",
    "    print(f\"Novo salario: {(b+a):.2f}\")\n",
    "    print(f\"Reajuste ganho: {b:.2f}\")\n",
    "    print(f\"Em percentual: 4 %\")"
   ]
  },
  {
   "cell_type": "code",
   "execution_count": null,
   "id": "539782a1",
   "metadata": {},
   "outputs": [],
   "source": []
  }
 ],
 "metadata": {
  "kernelspec": {
   "display_name": "Python 3 (ipykernel)",
   "language": "python",
   "name": "python3"
  },
  "language_info": {
   "codemirror_mode": {
    "name": "ipython",
    "version": 3
   },
   "file_extension": ".py",
   "mimetype": "text/x-python",
   "name": "python",
   "nbconvert_exporter": "python",
   "pygments_lexer": "ipython3",
   "version": "3.9.12"
  }
 },
 "nbformat": 4,
 "nbformat_minor": 5
}
