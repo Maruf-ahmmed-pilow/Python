{
 "cells": [
  {
   "cell_type": "markdown",
   "id": "0b7cadf4",
   "metadata": {},
   "source": [
    "Read an integer value, which is the duration in seconds of a certain event in a factory, and inform it expressed in hours:minutes:seconds.\n",
    "\n",
    "Input:\n",
    "The input file contains an integer N.\n",
    "\n",
    "Output:\n",
    "Print the read time in the input file (seconds) converted in hours:minutes:seconds like the following example."
   ]
  },
  {
   "cell_type": "code",
   "execution_count": 1,
   "id": "67dc7605",
   "metadata": {},
   "outputs": [
    {
     "name": "stdout",
     "output_type": "stream",
     "text": [
      "140153\n",
      "38:55:53\n"
     ]
    }
   ],
   "source": [
    "n = int(input())\n",
    "\n",
    "minute=n//60\n",
    "\n",
    "second=n%60\n",
    "\n",
    "hour = minute//60\n",
    "minute=minute%60\n",
    "\n",
    "print(f\"{hour}:{minute}:{second}\")"
   ]
  },
  {
   "cell_type": "code",
   "execution_count": null,
   "id": "2a9a096e",
   "metadata": {},
   "outputs": [],
   "source": []
  }
 ],
 "metadata": {
  "kernelspec": {
   "display_name": "Python 3 (ipykernel)",
   "language": "python",
   "name": "python3"
  },
  "language_info": {
   "codemirror_mode": {
    "name": "ipython",
    "version": 3
   },
   "file_extension": ".py",
   "mimetype": "text/x-python",
   "name": "python",
   "nbconvert_exporter": "python",
   "pygments_lexer": "ipython3",
   "version": "3.9.12"
  }
 },
 "nbformat": 4,
 "nbformat_minor": 5
}
