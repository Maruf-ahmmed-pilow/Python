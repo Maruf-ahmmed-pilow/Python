{
 "cells": [
  {
   "cell_type": "markdown",
   "id": "987ad139",
   "metadata": {},
   "source": [
    "Make a program that reads five integer values. Count how many   of these values are even, odd, positive and negative. Print these information like following example.\n",
    "\n",
    "Input:\n",
    "The input will be 5 integer values.\n",
    "\n",
    "Output:\n",
    "Print a message like the following example with all letters in lowercase, indicating how many of these values ​​are even, odd, positive and negative."
   ]
  },
  {
   "cell_type": "code",
   "execution_count": 2,
   "id": "93f3fb46",
   "metadata": {},
   "outputs": [
    {
     "name": "stdout",
     "output_type": "stream",
     "text": [
      "-5\n",
      "0\n",
      "-3\n",
      "-4\n",
      "12\n",
      "3 valor(es) par(es)\n",
      "2 valor(es) impar(es)\n",
      "1 valor(es) positivo(s)\n",
      "3 valor(es) negativo(s)\n"
     ]
    }
   ],
   "source": [
    "p=n=e=o=0\n",
    "for i in range(5):\n",
    "    a=int(input())\n",
    "    if a>0:\n",
    "        p+=1\n",
    "    elif a<0:\n",
    "        n+=1\n",
    "    if a%2==0:\n",
    "        e+=1\n",
    "    else:\n",
    "        o+=1\n",
    "print(f'''{e} valor(es) par(es)\n",
    "{o} valor(es) impar(es)\n",
    "{p} valor(es) positivo(s)\n",
    "{n} valor(es) negativo(s)''')    "
   ]
  },
  {
   "cell_type": "code",
   "execution_count": null,
   "id": "8cfa5019",
   "metadata": {},
   "outputs": [],
   "source": []
  }
 ],
 "metadata": {
  "kernelspec": {
   "display_name": "Python 3 (ipykernel)",
   "language": "python",
   "name": "python3"
  },
  "language_info": {
   "codemirror_mode": {
    "name": "ipython",
    "version": 3
   },
   "file_extension": ".py",
   "mimetype": "text/x-python",
   "name": "python",
   "nbconvert_exporter": "python",
   "pygments_lexer": "ipython3",
   "version": "3.9.12"
  }
 },
 "nbformat": 4,
 "nbformat_minor": 5
}
