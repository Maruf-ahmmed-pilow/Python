{
 "cells": [
  {
   "cell_type": "code",
   "execution_count": 11,
   "id": "c2ce9f11",
   "metadata": {},
   "outputs": [
    {
     "name": "stdout",
     "output_type": "stream",
     "text": [
      "10.0 20.1 5.1\n",
      "R1 = -0.29788\n",
      "R2 = -1.71212\n"
     ]
    }
   ],
   "source": [
    "a,b,c = list(map(float,input().split()))\n",
    "d=(b**2-4*a*c)\n",
    "if a == 0 or d<0:\n",
    "    print(\"Impossivel calcular\")\n",
    "else:\n",
    "    x1=(-b-d**0.50)/(2*a)\n",
    "    x2=(-b+d**0.50)/(2*a)\n",
    "    print(f\"R1 = {x2:.5f}\")\n",
    "    print(f\"R2 = {x1:.5f}\")"
   ]
  },
  {
   "cell_type": "code",
   "execution_count": 13,
   "id": "edf0158a",
   "metadata": {},
   "outputs": [
    {
     "name": "stdout",
     "output_type": "stream",
     "text": [
      "10.3 203.0 5.0\n",
      "R1 = -0.02466\n",
      "R2 = -19.68408\n"
     ]
    }
   ],
   "source": [
    "a,b,c = list(map(float,input().split()))\n",
    "d=(b**2-4*a*c)\n",
    "if a == 0 or d<0:\n",
    "    print(\"Impossivel calcular\")\n",
    "else:\n",
    "    x1=(-b-d**0.50)/(2*a)\n",
    "    x2=(-b+d**0.50)/(2*a)\n",
    "    print(f\"R1 = {x2:.5f}\")\n",
    "    print(f\"R2 = {x1:.5f}\")"
   ]
  },
  {
   "cell_type": "code",
   "execution_count": 14,
   "id": "d75bcb36",
   "metadata": {},
   "outputs": [
    {
     "name": "stdout",
     "output_type": "stream",
     "text": [
      " 10.0 3.0 5.0\n",
      "Impossivel calcular\n"
     ]
    }
   ],
   "source": [
    "a,b,c = list(map(float,input().split()))\n",
    "d=(b**2-4*a*c)\n",
    "if a == 0 or d<0:\n",
    "    print(\"Impossivel calcular\")\n",
    "else:\n",
    "    x1=(-b-d**0.50)/(2*a)\n",
    "    x2=(-b+d**0.50)/(2*a)\n",
    "    print(f\"R1 = {x2:.5f}\")\n",
    "    print(f\"R2 = {x1:.5f}\")"
   ]
  },
  {
   "cell_type": "code",
   "execution_count": 7,
   "id": "734fc903",
   "metadata": {},
   "outputs": [
    {
     "name": "stdout",
     "output_type": "stream",
     "text": [
      "10.0 3.0 5.0 \n",
      "R1 = -0.15000-0.69101j\n",
      "R2 = -0.15000+0.69101j\n"
     ]
    }
   ],
   "source": [
    "a,b,c = list(map(float,input().split()))\n",
    "d=(b**2-4*c*a)\n",
    "if a == 0:\n",
    "    print(\"Impossivel calcular\")\n",
    "else:\n",
    "    x1=(-b-d**0.5)/(2*a)\n",
    "    x2=(-b+d**0.5)/(2*a)\n",
    "    print(f\"R1 = {x1:.5f}\")\n",
    "    print(f\"R2 = {x2:.5f}\")"
   ]
  },
  {
   "cell_type": "code",
   "execution_count": null,
   "id": "0af186ca",
   "metadata": {},
   "outputs": [],
   "source": []
  }
 ],
 "metadata": {
  "kernelspec": {
   "display_name": "Python 3 (ipykernel)",
   "language": "python",
   "name": "python3"
  },
  "language_info": {
   "codemirror_mode": {
    "name": "ipython",
    "version": 3
   },
   "file_extension": ".py",
   "mimetype": "text/x-python",
   "name": "python",
   "nbconvert_exporter": "python",
   "pygments_lexer": "ipython3",
   "version": "3.9.12"
  }
 },
 "nbformat": 4,
 "nbformat_minor": 5
}
