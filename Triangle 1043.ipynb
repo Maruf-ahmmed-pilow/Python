{
 "cells": [
  {
   "cell_type": "markdown",
   "id": "141518f9",
   "metadata": {},
   "source": [
    "Read three point floating values (A, B and C) and verify if is possible to make a triangle with them. If it is possible, calculate the perimeter of the triangle and print the message:\n",
    "\n",
    "\n",
    "Perimetro = XX.X\n",
    "\n",
    "\n",
    "If it is not possible, calculate the area of the trapezium which basis A and B and C as height, and print the message:\n",
    "\n",
    "\n",
    "Area = XX.X\n",
    "\n",
    "Input\n",
    "The input file has tree floating point numbers.\n",
    "\n",
    "Output\n",
    "Print the result with one digit after the decimal point."
   ]
  },
  {
   "cell_type": "code",
   "execution_count": null,
   "id": "27c209ca",
   "metadata": {},
   "outputs": [],
   "source": [
    "a,b,c = list(map(float,input().split()))\n",
    "if a+b>c and a+c>b and b+c>a:\n",
    "    print(f'Perimetro = {(a+b+c):.1f}')\n",
    "else:\n",
    "    print(f'Area = []')"
   ]
  }
 ],
 "metadata": {
  "kernelspec": {
   "display_name": "Python 3 (ipykernel)",
   "language": "python",
   "name": "python3"
  },
  "language_info": {
   "codemirror_mode": {
    "name": "ipython",
    "version": 3
   },
   "file_extension": ".py",
   "mimetype": "text/x-python",
   "name": "python",
   "nbconvert_exporter": "python",
   "pygments_lexer": "ipython3",
   "version": "3.9.12"
  }
 },
 "nbformat": 4,
 "nbformat_minor": 5
}
