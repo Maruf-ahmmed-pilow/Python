{
 "cells": [
  {
   "cell_type": "markdown",
   "id": "b7f0a079",
   "metadata": {},
   "source": [
    "Read the start time and end time of a game, in hours. Then calculate the duration of the game, knowing that the game can begin in a day and finish in another day, with a maximum duration of 24 hours. The message must be printed in portuguese “O JOGO DUROU X HORA(S)” that means “THE GAME LASTED X HOUR(S)”\n",
    "\n",
    "Input\n",
    "Two integer numbers representing the start and end time of a game.\n",
    "\n",
    "Output\n",
    "Print the duration of the game as in the sample output."
   ]
  },
  {
   "cell_type": "code",
   "execution_count": 7,
   "id": "6a8e8653",
   "metadata": {},
   "outputs": [],
   "source": [
    "#this code is rinning"
   ]
  },
  {
   "cell_type": "code",
   "execution_count": 6,
   "id": "850d4855",
   "metadata": {},
   "outputs": [
    {
     "name": "stdout",
     "output_type": "stream",
     "text": [
      "2 16\n",
      "O JOGO DUROU 14 HORA(S)\n"
     ]
    }
   ],
   "source": [
    "a,b=map(int,input().split())\n",
    "if a<b:\n",
    "    print(f\"O JOGO DUROU {b-a} HORA(S)\")\n",
    "else:\n",
    "    print(f\"O JOGO DUROU {(b+24)-a} HORA(S)\")\n",
    "\n",
    "    \n"
   ]
  },
  {
   "cell_type": "code",
   "execution_count": 2,
   "id": "5f2f418c",
   "metadata": {},
   "outputs": [
    {
     "name": "stdout",
     "output_type": "stream",
     "text": [
      "0 0\n",
      "O JOGO DUROU 0 HORA(S)\n"
     ]
    }
   ],
   "source": [
    "a,b=list(map(int,input().split()))\n",
    "if a>b:\n",
    "    c=(b+24)-a\n",
    "    print(f\"O JOGO DUROU {c} HORA(S)\")\n",
    "else:\n",
    "    d=b-a\n",
    "    print(f\"O JOGO DUROU {d} HORA(S)\")\n"
   ]
  },
  {
   "cell_type": "code",
   "execution_count": 3,
   "id": "b151d267",
   "metadata": {},
   "outputs": [
    {
     "name": "stdout",
     "output_type": "stream",
     "text": [
      "2 16\n",
      "O JOGO DUROU 14 HORA(S)\n"
     ]
    }
   ],
   "source": [
    "a,b=list(map(int,input().split()))\n",
    "if a>b:\n",
    "    c=(b+24)-a\n",
    "    print(f\"O JOGO DUROU {c} HORA(S)\")\n",
    "else:\n",
    "    d=b-a\n",
    "    print(f\"O JOGO DUROU {d} HORA(S)\")\n"
   ]
  },
  {
   "cell_type": "code",
   "execution_count": null,
   "id": "6d13ba7b",
   "metadata": {},
   "outputs": [],
   "source": []
  }
 ],
 "metadata": {
  "kernelspec": {
   "display_name": "Python 3 (ipykernel)",
   "language": "python",
   "name": "python3"
  },
  "language_info": {
   "codemirror_mode": {
    "name": "ipython",
    "version": 3
   },
   "file_extension": ".py",
   "mimetype": "text/x-python",
   "name": "python",
   "nbconvert_exporter": "python",
   "pygments_lexer": "ipython3",
   "version": "3.9.12"
  }
 },
 "nbformat": 4,
 "nbformat_minor": 5
}
