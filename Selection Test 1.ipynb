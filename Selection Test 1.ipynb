{
 "cells": [
  {
   "cell_type": "markdown",
   "id": "447e3946",
   "metadata": {},
   "source": [
    "Read 4 integer values A, B, C and D. Then if B is greater than C and D is greater than A and if the sum of C and D is greater than the sum of A and B and if C and D were positives values and if A is even, write the message “Valores aceitos” (Accepted values). Otherwise, write the message “Valores nao aceitos” (Values not accepted).\n",
    "\n",
    "Input\n",
    "Four integer numbers A, B, C and D.\n",
    "\n",
    "Output\n",
    "Show the corresponding message after the validation of the values​​."
   ]
  },
  {
   "cell_type": "code",
   "execution_count": 3,
   "id": "558b04fe",
   "metadata": {},
   "outputs": [
    {
     "name": "stdout",
     "output_type": "stream",
     "text": [
      "5 6 7 8\n",
      "Valores nao aceitos\n"
     ]
    }
   ],
   "source": [
    "a,b,c,d = list(map(int,input().split()))\n",
    "if b>c and d>a and (c+d)>(a+b) and c>0 and d>0 and a%2==0:\n",
    "    print('Valores aceitos')\n",
    "else:\n",
    "    print('Valores nao aceitos')"
   ]
  },
  {
   "cell_type": "code",
   "execution_count": 4,
   "id": "169e2f6c",
   "metadata": {},
   "outputs": [
    {
     "name": "stdout",
     "output_type": "stream",
     "text": [
      "2 3 2 6\n",
      "Valores aceitos\n"
     ]
    }
   ],
   "source": [
    "a,b,c,d = list(map(int,input().split()))\n",
    "if b>c and d>a and (c+d)>(a+b) and c>0 and d>0 and a%2==0:\n",
    "    print('Valores aceitos')\n",
    "else:\n",
    "    print('Valores nao aceitos')"
   ]
  }
 ],
 "metadata": {
  "kernelspec": {
   "display_name": "Python 3 (ipykernel)",
   "language": "python",
   "name": "python3"
  },
  "language_info": {
   "codemirror_mode": {
    "name": "ipython",
    "version": 3
   },
   "file_extension": ".py",
   "mimetype": "text/x-python",
   "name": "python",
   "nbconvert_exporter": "python",
   "pygments_lexer": "ipython3",
   "version": "3.9.12"
  }
 },
 "nbformat": 4,
 "nbformat_minor": 5
}
