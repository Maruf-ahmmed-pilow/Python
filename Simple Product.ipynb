{
 "cells": [
  {
   "cell_type": "markdown",
   "id": "3327cead",
   "metadata": {},
   "source": [
    "Read two integer values. After this, calculate the product between them and store the result in a variable named PROD. Print the result like the example below. Do not forget to print the end of line after the result, otherwise you will receive “Presentation Error”."
   ]
  },
  {
   "cell_type": "markdown",
   "id": "97b90910",
   "metadata": {},
   "source": [
    "python 2.0"
   ]
  },
  {
   "cell_type": "code",
   "execution_count": 1,
   "id": "891f7589",
   "metadata": {},
   "outputs": [
    {
     "name": "stdout",
     "output_type": "stream",
     "text": [
      "3\n",
      "9\n",
      "PROD = 27\n"
     ]
    }
   ],
   "source": [
    "a=int(input())\n",
    "b=int(input())\n",
    "c=a*b\n",
    "print(\"PROD = %d\"%c)"
   ]
  },
  {
   "cell_type": "code",
   "execution_count": 3,
   "id": "6ccd36d2",
   "metadata": {},
   "outputs": [
    {
     "name": "stdout",
     "output_type": "stream",
     "text": [
      "3\n",
      "9\n",
      "PROD =  27\n"
     ]
    }
   ],
   "source": [
    "a=int(input())\n",
    "b=int(input())\n",
    "c=a*b\n",
    "print(\"PROD = \", c)"
   ]
  },
  {
   "cell_type": "code",
   "execution_count": null,
   "id": "e9e23768",
   "metadata": {},
   "outputs": [],
   "source": []
  }
 ],
 "metadata": {
  "kernelspec": {
   "display_name": "Python 3 (ipykernel)",
   "language": "python",
   "name": "python3"
  },
  "language_info": {
   "codemirror_mode": {
    "name": "ipython",
    "version": 3
   },
   "file_extension": ".py",
   "mimetype": "text/x-python",
   "name": "python",
   "nbconvert_exporter": "python",
   "pygments_lexer": "ipython3",
   "version": "3.9.12"
  }
 },
 "nbformat": 4,
 "nbformat_minor": 5
}
