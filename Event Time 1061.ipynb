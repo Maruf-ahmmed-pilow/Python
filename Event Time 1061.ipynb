{
 "cells": [
  {
   "cell_type": "markdown",
   "id": "111d92d5",
   "metadata": {},
   "source": [
    "Peter is organizing an event in his University. The event will be in April month, beginning and finishing within April month. The problem is: Peter wants to calculate the event duration in seconds, knowing obviously the begin and the end time of the event.\n",
    "\n",
    "You know that the event can take from few seconds to some days, so, you must help Peter to compute the total time corresponding to duration of the event.\n",
    "\n",
    "Input:\n",
    "The first line of the input contains information about the beginning day of the event in the format: “Dia xx”. The next line contains the start time of the event in the format presented in the sample input. Follow 2 input lines with same format, corresponding to the end of the event.\n",
    "\n",
    "Output:\n",
    "Your program must print the following output, one information by line, considering that if any information is null for example, the number 0 must be printed in place of W, X, Y or Z:\n",
    "\n",
    "W dia(s)\n",
    "X hora(s)\n",
    "Y minuto(s)\n",
    "Z segundo(s)\n",
    "\n",
    "Obs: Consider that the event of the test case have the minimum duration of one minute. “dia” means day, “hora” means hour, “minuto” means minute and “Segundo” means second in Portuguese."
   ]
  },
  {
   "cell_type": "code",
   "execution_count": 2,
   "id": "3184074e",
   "metadata": {},
   "outputs": [
    {
     "name": "stdout",
     "output_type": "stream",
     "text": [
      "Dia 5\n",
      "08 : 12 : 23\n",
      "Dia 9\n",
      "06 : 13 : 23\n",
      "3 dia(s)\n",
      "22 hora(s)\n",
      "1 minuto(s)\n",
      "0 segundo(s)\n",
      "\n"
     ]
    }
   ],
   "source": [
    "d1 = int(input().split()[-1])\n",
    "h1,m1,s1 = map(int, input().split(\" : \"))\n",
    "\n",
    "d2 = int(input().split()[-1])\n",
    "h2,m2,s2 = map(int, input().split(\" : \"))\n",
    "\n",
    "t1 = (d1*24*60*60) + (h1*60*60) + (m1*60) + s1\n",
    "t2 = (d2*24*60*60) + (h2*60*60) + (m2*60) + s2\n",
    "\n",
    "\n",
    "d=h=m=s=0\n",
    "for i in range(t1, t2):\n",
    "    s += 1\n",
    "    if s == 60:\n",
    "        m +=1\n",
    "        s=0\n",
    "        if m == 60:\n",
    "            h += 1\n",
    "            m = 0\n",
    "            if h == 24:\n",
    "                d +=1\n",
    "                h = 0\n",
    "print(f'''{d} dia(s)\n",
    "{h} hora(s)\n",
    "{m} minuto(s)\n",
    "{s} segundo(s)\n",
    "''')"
   ]
  },
  {
   "cell_type": "code",
   "execution_count": 4,
   "id": "b47435fc",
   "metadata": {},
   "outputs": [
    {
     "name": "stdout",
     "output_type": "stream",
     "text": [
      "dia 5\n",
      "08 : 12 : 23\n",
      "dia 9\n",
      "06 : 13 : 23\n",
      "3 dia(s)\n",
      "22 hora(s)\n",
      "8 minuto(s)\n",
      "0 segundo(s)\n",
      "\n"
     ]
    }
   ],
   "source": [
    "d1 = int(input().split()[-1])\n",
    "h1,m1,s1 = map(int, input().split(\" : \"))\n",
    "\n",
    "d2 = int(input().split()[-1])\n",
    "h2,m2,s2 = map(int, input().split(\" : \"))\n",
    "\n",
    "d = d2 - d1\n",
    "h = h2 - h1\n",
    "m = m2 - d1\n",
    "s = s2 - s1\n",
    "\n",
    "if s<0:\n",
    "    s +=60\n",
    "    m = m-1\n",
    "if m<0:\n",
    "    m += 60\n",
    "    h = h-1\n",
    "if h<0:\n",
    "    h +=24\n",
    "    d = d-1\n",
    "\n",
    "print(f'''{d} dia(s)\n",
    "{h} hora(s)\n",
    "{m} minuto(s)\n",
    "{s} segundo(s)\n",
    "''')"
   ]
  },
  {
   "cell_type": "code",
   "execution_count": null,
   "id": "340a851c",
   "metadata": {},
   "outputs": [],
   "source": []
  }
 ],
 "metadata": {
  "kernelspec": {
   "display_name": "Python 3 (ipykernel)",
   "language": "python",
   "name": "python3"
  },
  "language_info": {
   "codemirror_mode": {
    "name": "ipython",
    "version": 3
   },
   "file_extension": ".py",
   "mimetype": "text/x-python",
   "name": "python",
   "nbconvert_exporter": "python",
   "pygments_lexer": "ipython3",
   "version": "3.9.12"
  }
 },
 "nbformat": 4,
 "nbformat_minor": 5
}
